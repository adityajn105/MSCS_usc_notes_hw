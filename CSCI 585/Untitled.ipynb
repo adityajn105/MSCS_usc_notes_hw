{
 "cells": [
  {
   "cell_type": "markdown",
   "id": "67e38594",
   "metadata": {},
   "source": [
    "**Heiracrhical Model** :A parent can have many children but a child can only have one parent. (1:M) relationship only\n",
    "\n",
    "\n",
    "**Network Model**: Generalizes Hierarchical model, Here child can have many parents. (1:M) as well as (M:N) relationships.\n",
    "\n",
    "\n",
    "**Weak Relationship**\n",
    "- Primary key of related entity does not contain a primary key component of the parent entity\n",
    "\n",
    "**Strong Relationship**\n",
    "- Primary key of related entity contains primary key component of parent entity.\n",
    "- Class is not a weak entity (becuase it is exsistence dependent, And has a strong relationship)\n",
    "\n",
    "**EER Diagram**\n",
    "* No Multiclass inheritance\n",
    "\n",
    "### Relational Database: Ed-Codd\n",
    "1. Schema: Conceptual organization of entire database,\n",
    "2. Subschema: Portion of database seen by the application program that produce the desired information from the data within the database.\n",
    "\n",
    "**Data creationg, querying**\n",
    "* Data Definition Language: Enables database administrator to define the schema componenets\n",
    "* Data Manipulation Language: Enviornment in which data can be managed and is used to work with data in database."
   ]
  },
  {
   "cell_type": "markdown",
   "id": "53a4bb0e",
   "metadata": {},
   "source": [
    "### Relational Database keys; (agiledata keys)\n",
    "\n",
    "1. Superkey: An attribute or combination of attributes that uniquely identifies each row in table.\n",
    "2. Candidate key: A minimal (irreducible) superkey; a superkey that does not contain a subset of attribute that is itself a superkey.\n",
    "3. Primary key: A candidate key selected to uniquely identify all other attribute values in given rowl cannot contain null entries.\n",
    "4. Foreign Key: An attribute or combination of attrivute in one table whose value must either match the primary key in another table or be null.\n",
    "5. Secondary Key: An attibute pr combination of attribute used strictly for data retrieval purposes."
   ]
  },
  {
   "cell_type": "markdown",
   "id": "d80f7aac",
   "metadata": {},
   "source": [
    "**Operations of table**\n",
    "* There are only eight 'relational set operators' \n",
    "\n",
    "- Select - select only some rows \n",
    "- Project - select only some columns\n",
    "- Union - append 2 tables on top of each other, exclude duplicate rows (union comaptible - share same number of columns and compatible domain) - unionall (keep duplicates)\n",
    "- Intersect - common in two tables (union compatible)\n",
    "- Difference -  A-B (only in A) (union compatible)\n",
    "- Product - all possible pairs of row (combination) of 2 table  \n",
    "- Join - allow information to be intelligently combined from 2 table or more tables (theta join - join based on >, <, !=, <=, >=)\n",
    "- *Divide* - uses one 2-column table as the dividend and one single-column table as a divisor. Output is a single column all values from the second column of the dividend that are associated with every row in the divisor."
   ]
  },
  {
   "cell_type": "markdown",
   "id": "48330506",
   "metadata": {},
   "source": [
    "- closure? Where? why good property?\n",
    "- unary/ternary relationship?\n",
    "- blind (non identifying keys)?\n",
    "- "
   ]
  },
  {
   "cell_type": "markdown",
   "id": "7c4a7c1f",
   "metadata": {},
   "source": [
    "**Normalization**\n",
    "\n",
    "* Evaluating and connecting table structures to minimize data redundancies.\n",
    "* Reduces data anomalies\n",
    "* Assign attributes to tables based on determination.\n",
    "* Normal Form\n",
    "    - First Normal Form (1NF)\n",
    "    - Second Normal Form (2NF)\n",
    "    - Third Normal Form (3NF)\n",
    "    \n",
    "* Higher normal forms -> cleaner designs\n",
    "    - Higher normal forms are better than lower normal forms\n",
    "    \n",
    "* Denormalization: Produces a lower normal form"
   ]
  },
  {
   "cell_type": "markdown",
   "id": "2546d1f3",
   "metadata": {},
   "source": [
    "**1NF :** Table Format, no repeating groups and PK identified.\n",
    "\n",
    "**2NF :** 1NF and No partial dependency\n",
    "\n",
    "**3NF :** 2NF and no transitive dependency\n",
    "\n",
    "**BCNF :** Every deteminant is a candidate key.\n",
    "\n",
    "**4NF :** 3NF and no independent multivalued dependency"
   ]
  },
  {
   "cell_type": "markdown",
   "id": "81946254",
   "metadata": {},
   "source": [
    "**Partial Dependency**\n",
    "Functional dependence in which determinant is only part of the primary key.\n",
    "\n",
    "or \n",
    "\n",
    "one particular set of non-key fields or a non-key field depend on only one of the key.\n",
    "\n",
    "\n",
    "**Transitive Dependency**\n",
    "An attribute functionally depends on another nonkey attribute.\n",
    "\n",
    "or \n",
    "\n",
    "relation among non key fields"
   ]
  },
  {
   "cell_type": "markdown",
   "id": "072de6c9",
   "metadata": {},
   "source": []
  },
  {
   "cell_type": "code",
   "execution_count": null,
   "id": "be0deafc",
   "metadata": {},
   "outputs": [],
   "source": []
  }
 ],
 "metadata": {
  "kernelspec": {
   "display_name": "Python 3",
   "language": "python",
   "name": "python3"
  },
  "language_info": {
   "codemirror_mode": {
    "name": "ipython",
    "version": 3
   },
   "file_extension": ".py",
   "mimetype": "text/x-python",
   "name": "python",
   "nbconvert_exporter": "python",
   "pygments_lexer": "ipython3",
   "version": "3.8.3"
  }
 },
 "nbformat": 4,
 "nbformat_minor": 5
}
