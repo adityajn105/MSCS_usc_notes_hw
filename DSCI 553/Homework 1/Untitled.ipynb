{
 "cells": [
  {
   "cell_type": "code",
   "execution_count": 1,
   "metadata": {},
   "outputs": [],
   "source": [
    "from pyspark import SparkContext\n",
    "import json\n",
    "import datetime"
   ]
  },
  {
   "cell_type": "code",
   "execution_count": 2,
   "metadata": {},
   "outputs": [],
   "source": [
    "from operator import add"
   ]
  },
  {
   "cell_type": "code",
   "execution_count": 3,
   "metadata": {},
   "outputs": [
    {
     "data": {
      "text/html": "\n        <div>\n            <p><b>SparkContext</b></p>\n\n            <p><a href=\"http://192.168.1.190:4041\">Spark UI</a></p>\n\n            <dl>\n              <dt>Version</dt>\n                <dd><code>v3.1.1</code></dd>\n              <dt>Master</dt>\n                <dd><code>local</code></dd>\n              <dt>AppName</dt>\n                <dd><code>practice_app</code></dd>\n            </dl>\n        </div>\n        ",
      "text/plain": "<SparkContext master=local appName=practice_app>"
     },
     "execution_count": 3,
     "metadata": {},
     "output_type": "execute_result"
    }
   ],
   "source": [
    "sc = SparkContext(\"local\", \"practice_app\")\n",
    "sc"
   ]
  },
  {
   "cell_type": "code",
   "execution_count": 4,
   "metadata": {},
   "outputs": [
    {
     "data": {
      "text/plain": "128"
     },
     "execution_count": 4,
     "metadata": {},
     "output_type": "execute_result"
    }
   ],
   "source": [
    "stopwords = set()\n",
    "with open('datasets/stopwords', \"r\") as fp:\n",
    "    for word in fp.readlines():\n",
    "        stopwords.add(word.strip().lower())\n",
    "stopwords.add(\"\")\n",
    "len(stopwords)"
   ]
  },
  {
   "cell_type": "code",
   "execution_count": 5,
   "metadata": {},
   "outputs": [],
   "source": [
    "puncts = (\"(\", \"[\", \",\", \".\", \"!\", \"?\", \":\", \";\", \"]\", \")\")"
   ]
  },
  {
   "cell_type": "markdown",
   "metadata": {},
   "source": [
    "# Task 1"
   ]
  },
  {
   "cell_type": "code",
   "execution_count": 6,
   "metadata": {},
   "outputs": [],
   "source": [
    "reviews = sc.textFile('datasets/review.json')\n",
    "def preprocess(json_txt):\n",
    "    json_dict = json.loads(json_txt)\n",
    "    json_dict['date'] = datetime.datetime.strptime(json_dict['date'], \"%Y-%m-%d %H:%M:%S\")\n",
    "    text = []\n",
    "    for c in list(json_dict['text'].lower()):#.replace(\"\\n\",\"\")):\n",
    "        if c not in puncts:\n",
    "            text.append(c)\n",
    "    text = \"\".join(text).split(\" \")\n",
    "    json_dict['text'] = [ word for word in text if word not in stopwords ]\n",
    "    return json_dict\n",
    "\n",
    "reviews_json = reviews.map( lambda x : preprocess(x) )"
   ]
  },
  {
   "cell_type": "markdown",
   "metadata": {},
   "source": [
    "### Ans : The total number of reviews"
   ]
  },
  {
   "cell_type": "code",
   "execution_count": 7,
   "metadata": {},
   "outputs": [
    {
     "data": {
      "text/plain": "1151625"
     },
     "execution_count": 7,
     "metadata": {},
     "output_type": "execute_result"
    }
   ],
   "source": [
    "ans1 = reviews.count()\n",
    "ans1"
   ]
  },
  {
   "cell_type": "markdown",
   "metadata": {},
   "source": [
    "### Ans : The number of reviews in a given year, y "
   ]
  },
  {
   "cell_type": "code",
   "execution_count": 8,
   "metadata": {},
   "outputs": [
    {
     "data": {
      "text/plain": "209995"
     },
     "execution_count": 8,
     "metadata": {},
     "output_type": "execute_result"
    }
   ],
   "source": [
    "y = 2017\n",
    "ans2 = reviews_json.filter( lambda x : x['date'].year == y  ).count()\n",
    "ans2"
   ]
  },
  {
   "cell_type": "markdown",
   "metadata": {},
   "source": [
    "### Ans : The number of distinct users who have written the reviews "
   ]
  },
  {
   "cell_type": "code",
   "execution_count": 9,
   "metadata": {},
   "outputs": [
    {
     "data": {
      "text/plain": "566269"
     },
     "execution_count": 9,
     "metadata": {},
     "output_type": "execute_result"
    }
   ],
   "source": [
    "ans3 = reviews_json.map( lambda x: (x['user_id'],1) ).reduceByKey(add).count()\n",
    "ans3"
   ]
  },
  {
   "cell_type": "markdown",
   "metadata": {},
   "source": [
    "### Ans : Top m users who have the largest number of reviews and its count"
   ]
  },
  {
   "cell_type": "code",
   "execution_count": 10,
   "metadata": {},
   "outputs": [
    {
     "data": {
      "text/plain": "[('CxDOIDnH8gp9KXzpBHJYXw', 715),\n ('bLbSNkLggFnqwNNzzq-Ijw', 424),\n ('PKEzKWv_FktMm2mGPjwd0Q', 322),\n ('DK57YibC5ShBmqQl97CKog', 291),\n ('ELcQDlf69kb-ihJfxZyL0A', 288),\n ('U4INQZOPSUaj8hMjLlZ3KA', 276),\n ('QJI9OSEn6ujRCtrX06vs1w', 258),\n ('d_TBs6J3twMy9GChqUEXkg', 253),\n ('hWDybu_KvYLSdEFzGrniTw', 239),\n ('dIIKEfOgo0KqUfGQvGikPg', 216)]"
     },
     "execution_count": 10,
     "metadata": {},
     "output_type": "execute_result"
    }
   ],
   "source": [
    "m = 10\n",
    "ans4 = reviews_json \\\n",
    "            .map( lambda x: (x['user_id'],1) ) \\\n",
    "            .reduceByKey(add) \\\n",
    "            .sortBy( lambda x: -1*x[1] ) \\\n",
    "            .take(m)\n",
    "ans4"
   ]
  },
  {
   "cell_type": "markdown",
   "metadata": {},
   "source": [
    "### Top n frequent words in the review text. The words should be in lower cases. The following punctuations “(”, “[”, “,”, “.”, “!”, “?”, “:”, “;”, “]”, “)” and the given stopwords are excluded (1pts)"
   ]
  },
  {
   "cell_type": "code",
   "execution_count": 11,
   "metadata": {},
   "outputs": [
    {
     "data": {
      "text/plain": "[('food', 556438),\n ('place', 552730),\n ('good', 541824),\n ('great', 485467),\n ('like', 402121),\n ('service', 394193),\n ('time', 390830),\n ('get', 382805),\n ('one', 367582),\n ('would', 349574)]"
     },
     "execution_count": 11,
     "metadata": {},
     "output_type": "execute_result"
    }
   ],
   "source": [
    "n = 10\n",
    "ans5 = reviews_json \\\n",
    "            .flatMap( lambda x: [ (word, 1) for word in x['text'] ] ) \\\n",
    "            .reduceByKey(add) \\\n",
    "            .sortBy( lambda x: -1*x[1] ) \\\n",
    "            .take(n)\n",
    "ans5"
   ]
  },
  {
   "cell_type": "markdown",
   "metadata": {},
   "source": [
    "# Task 2"
   ]
  },
  {
   "cell_type": "code",
   "execution_count": 106,
   "metadata": {},
   "outputs": [
    {
     "data": {
      "text/plain": [
       "[{'business_id': '1SWheh84yJXfytovILXOAQ',\n",
       "  'name': 'Arizona Biltmore Golf Club',\n",
       "  'address': '2818 E Camino Acequia Drive',\n",
       "  'city': 'Phoenix',\n",
       "  'state': 'AZ',\n",
       "  'postal_code': '85016',\n",
       "  'latitude': 33.5221425,\n",
       "  'longitude': -112.0184807,\n",
       "  'stars': 3.0,\n",
       "  'review_count': 5,\n",
       "  'is_open': 0,\n",
       "  'attributes': {'GoodForKids': 'False'},\n",
       "  'categories': 'Golf, Active Life',\n",
       "  'hours': None}]"
      ]
     },
     "execution_count": 106,
     "metadata": {},
     "output_type": "execute_result"
    }
   ],
   "source": [
    "business_txt = sc.textFile('datasets/business.json')\n",
    "# def preprocess_business(json_txt):\n",
    "#     json_dict = json_txt)\n",
    "#     return json_dict\n",
    "\n",
    "business_json = business_txt.map( json.loads )\n",
    "business_json.take(1)"
   ]
  },
  {
   "cell_type": "code",
   "execution_count": 124,
   "metadata": {},
   "outputs": [
    {
     "data": {
      "text/plain": [
       "[('abaIvBrlg3QI4FUG1v3bdA', 4.0),\n",
       " ('M8a5DRdXl8KMu4bMFLPgQg', 4.25),\n",
       " ('1Df5WnLX3DqN6ymlhqznaQ', 4.589041095890411),\n",
       " ('DVfCbJhJUDWRlUfrKzaKOA', 1.9056603773584906),\n",
       " ('E7eOOXwMC7wwCRywsvNzUA', 3.4814814814814814)]"
      ]
     },
     "execution_count": 124,
     "metadata": {},
     "output_type": "execute_result"
    }
   ],
   "source": [
    "temp = reviews_json.map( lambda x: (x['business_id'], (x['stars'], 1)) ).reduceByKey( lambda a,b: ( a[0]+b[0], a[1]+b[1] ) ).map( lambda x: (x[0], x[1][0]/x[1][1]) ).take(5)\n",
    "temp"
   ]
  },
  {
   "cell_type": "code",
   "execution_count": 169,
   "metadata": {},
   "outputs": [],
   "source": [
    "review_json1 = reviews_json.map( lambda x: (x['business_id'], x['stars']) )\n",
    "def business_process(js):\n",
    "    if js['categories'] is None: return []\n",
    "    return [ (js['business_id'], cat.strip()) for cat in js.get('categories', \"\").split(',') ]\n",
    "\n",
    "business_json1 = business_json.flatMap(business_process)"
   ]
  },
  {
   "cell_type": "code",
   "execution_count": 170,
   "metadata": {},
   "outputs": [
    {
     "data": {
      "text/plain": [
       "[('mRUVMJkUGxrByzMQ2MuOpA', 1.0),\n",
       " ('LUN6swQYa4xJKaM_UEUOEw', 4.0),\n",
       " ('NyLYY8q1-H3hfsTwuwLPCg', 4.0),\n",
       " ('6lj2BJ4tJeu7db5asGHQ4w', 5.0),\n",
       " ('Mem13A3C202RzT53npn4NA', 5.0)]"
      ]
     },
     "execution_count": 170,
     "metadata": {},
     "output_type": "execute_result"
    }
   ],
   "source": [
    "review_json1.take(5)"
   ]
  },
  {
   "cell_type": "code",
   "execution_count": 171,
   "metadata": {},
   "outputs": [
    {
     "data": {
      "text/plain": [
       "[('1SWheh84yJXfytovILXOAQ', 'Golf'),\n",
       " ('1SWheh84yJXfytovILXOAQ', 'Active Life'),\n",
       " ('QXAEGFB4oINsVuTFxEYKFQ', 'Specialty Food'),\n",
       " ('QXAEGFB4oINsVuTFxEYKFQ', 'Restaurants'),\n",
       " ('QXAEGFB4oINsVuTFxEYKFQ', 'Dim Sum')]"
      ]
     },
     "execution_count": 171,
     "metadata": {},
     "output_type": "execute_result"
    }
   ],
   "source": [
    "business_json1.take(5)"
   ]
  },
  {
   "cell_type": "code",
   "execution_count": 172,
   "metadata": {},
   "outputs": [
    {
     "data": {
      "text/plain": [
       "[('8WBHKj2davW6hhZWlUQ7DA', (5.0, 'Performing Arts')),\n",
       " ('8WBHKj2davW6hhZWlUQ7DA', (5.0, 'Nightlife')),\n",
       " ('8WBHKj2davW6hhZWlUQ7DA', (5.0, 'Music Venues')),\n",
       " ('8WBHKj2davW6hhZWlUQ7DA', (5.0, 'Stadiums & Arenas')),\n",
       " ('8WBHKj2davW6hhZWlUQ7DA', (5.0, 'Arts & Entertainment'))]"
      ]
     },
     "execution_count": 172,
     "metadata": {},
     "output_type": "execute_result"
    }
   ],
   "source": [
    "business_cat_stars = review_json1.join(business_json1)\n",
    "business_cat_stars.take(5)"
   ]
  },
  {
   "cell_type": "code",
   "execution_count": 177,
   "metadata": {},
   "outputs": [
    {
     "data": {
      "text/plain": [
       "[('Calabrian', 5.0),\n",
       " ('Storefront Clinics', 5.0),\n",
       " ('Safety Equipment', 5.0),\n",
       " ('Christmas Markets', 5.0),\n",
       " ('Vocal Coach', 5.0),\n",
       " ('Bocce Ball', 5.0),\n",
       " ('Hearing Aids', 5.0),\n",
       " ('Astrologers', 5.0),\n",
       " ('Registry Office', 5.0),\n",
       " ('Makerspaces', 5.0)]"
      ]
     },
     "execution_count": 177,
     "metadata": {},
     "output_type": "execute_result"
    }
   ],
   "source": [
    "n = 10\n",
    "business_cat_stars.map(lambda x: (x[1][1], (x[1][0], 1))) \\\n",
    "        .reduceByKey(lambda a,b: (a[0]+b[0], a[1]+b[1])) \\\n",
    "        .map( lambda x: (x[0], x[1][0]/x[1][1]) ) \\\n",
    "        .sortBy( lambda x: -1*x[1] ) \\\n",
    "        .take(10)"
   ]
  },
  {
   "cell_type": "markdown",
   "metadata": {},
   "source": [
    "# Task 3"
   ]
  },
  {
   "cell_type": "code",
   "execution_count": 4,
   "metadata": {},
   "outputs": [],
   "source": [
    "sc = SparkContext.getOrCreate()\n",
    "\n",
    "reviews_txt = sc.textFile('datasets/review.json')\n",
    "reviews_json = reviews_txt.map( json.loads )"
   ]
  },
  {
   "cell_type": "code",
   "execution_count": 5,
   "metadata": {},
   "outputs": [
    {
     "data": {
      "text/plain": "[{'review_id': '-I5umRTkhw15RqpKMl_o1Q',\n  'user_id': '-mA3-1mN4JIEkqOtdbNXCQ',\n  'business_id': 'mRUVMJkUGxrByzMQ2MuOpA',\n  'stars': 1.0,\n  'text': \"Walked in around 4 on a Friday afternoon, we sat at a table just off the bar and walked out after 5 min or so. Don't even think they realized we walked in. However everyone at the bar noticed we walked in!!! Service was non existent at best. Not a good way for a new business to start out. Oh well, the location they are at has been about 5 different things over the past several years, so they will just be added to the list. SMDH!!!\",\n  'date': '2017-12-15 23:27:08'}]"
     },
     "execution_count": 5,
     "metadata": {},
     "output_type": "execute_result"
    }
   ],
   "source": [
    "reviews_json.take(1)"
   ]
  },
  {
   "cell_type": "code",
   "execution_count": 7,
   "metadata": {},
   "outputs": [
    {
     "data": {
      "text/plain": "[('M8a5DRdXl8KMu4bMFLPgQg', 20),\n ('1Df5WnLX3DqN6ymlhqznaQ', 73),\n ('DVfCbJhJUDWRlUfrKzaKOA', 106),\n ('E7eOOXwMC7wwCRywsvNzUA', 27),\n ('VoXUt6TIJWyIf_lihbN5xQ', 51),\n ('6eRSdODyj9GS0w6zlhrWkg', 23),\n ('qx6WhZ42eDKmBchZDax4dQ', 173),\n ('WOj8nPos3R9IIf0Pyttd8g', 34),\n ('gc_GGat7TgNCmrgc4nVOgw', 46),\n ('zra20XPGVL9P3i5hMoKjig', 26),\n ('eoyvbnRYQe-z85e8Rc6vAg', 78),\n ('vUfFS5BR8WXsx9r72QMCvg', 14),\n ('vyDW7_CHhDUJshMqaSjj0g', 77),\n ('GyAjuDFTsSLLE1v8NdmZ7g', 23),\n ('OVTZNSkSfbl3gVB9XQIJfw', 246),\n ('CAy7twD5McMiNrkFWOUn7g', 14),\n ('xYy54Y2VTBAG5k7WJcaH4A', 14),\n ('HjJp2tI4Xzs7MKyL31E0DA', 12),\n ('Ls1NqcogI-szYoQ7tLh4Og', 18),\n ('wSBNzVkRzTVlnR95AFvYMg', 24),\n ('kPfhSK0kcUmOTmC5DEjaDw', 42),\n ('EdY6q0CO2mlATpoTFkvHAw', 71),\n ('4v7dr2o5qXsHVGh9tM1KLA', 22),\n ('biSsdqExmdvIKiFuowOadg', 61),\n ('0e2oJ82g4ZfvQzIc8SE9Xw', 26),\n ('83cVpTJNyzv9lJ20vzBgdg', 17),\n ('WnUttoJffplgWaQGR2J2Xw', 22),\n ('yAXWKWRTs4wNy-zrJgoeXQ', 52),\n ('7EZ4Eu7YJ1ltRCC5jXFJrQ', 138),\n ('l9vx-OTdDPU-oHZ17aVxdg', 35),\n ('ES64p4ZlDPKv-ZUEB7Tv2g', 13),\n ('IkilcGqiN3_sQk-VvnoAeg', 17),\n ('NDC3StqRdWu2Z7WMIBVbBg', 32),\n ('AWaxaKm_YgTkxbW8kjsmdg', 27),\n ('dnYzFJ9m1USQqhZv1ZTuwA', 18),\n ('R_M4P9XetEM-aLE7eHdthw', 22),\n ('gnKjwL_1w79qoiV3IC_xQQ', 40),\n ('Zd9VJFJjfaadaJmCMFv-RQ', 23),\n ('PxX4_JZEkFsTyLOEpVACYA', 11),\n ('mXyLqsbe7FT1X8ZFOP8WpQ', 77),\n ('Kz4WS00PcqOJgxfZawk4dQ', 24),\n ('baIT89GubjGJV1mpn82Eeg', 14),\n ('M0yfSpeDaYTPEnLjw_0g_g', 29),\n ('iIaC8f8QgaWTYoFSZYasrw', 12),\n ('2HxaDXZmAOH6LiuzGgNdPA', 37),\n ('8xCiibfgqy-8xpCWEaguqg', 37),\n ('aXgF2q1ciYIwUS2ULNNCgQ', 15),\n ('qIkgIkZQxtXClNARWe97Rw', 15),\n ('STsW9ALww7yeVNcRxXEmXQ', 14),\n ('BJ3AyMhTaORAu_e_J2KNEQ', 28),\n ('dJuxA0paONof3QiMAN8d7Q', 41),\n ('2FfZUyA82YhQCjWNiqDCzQ', 42),\n ('g-BuoRJi5LOki0_rSWK2BA', 12),\n ('ZL9sk7Imc42BNRhcjgnqPw', 12),\n ('urgjbqhtZD20G5h3XM76wQ', 19),\n ('5sy9ljRf2rq_DtIn6j4_cw', 13),\n ('kO1-ZswCgQak2beKUMaYRw', 30),\n ('288uyG-jORlPnGhn3fMlfA', 12),\n ('cghHesD2NXV5yUu-ZAxE2g', 37),\n ('Jf5etKG_Sc3Xe2dcIUvWZw', 19),\n ('uKWh_n81PJY7XTjPQib_yw', 12),\n ('5GOrW-PkisP0eXlSxy4AFg', 25),\n ('jq9UUMx6vRNvLEyuedqSzA', 11),\n ('7UGEWXMUFATYuD7zK1f-TQ', 11),\n ('xJigQdulvYC1vj3t0dm60A', 28),\n ('Nf1ZtgHwg0Mu5lOaJYgDGQ', 23),\n ('BD2sd1bFxz2aGuXlWETAxw', 15),\n ('8hdRT9J9-RnV83KZDpCF2w', 12),\n ('qsJkjQoM3Hdg6Gtqp2S9_w', 90),\n ('iDT6FpWCjJXSHUMFg94UEw', 14),\n ('z71IqTCbQW7uzw2H2T1QrA', 21),\n ('YTMbzy3SXiDtqQOfZRD7lw', 24),\n ('vu4DAmaeEK_cX1b6bDxn9Q', 11),\n ('kNTOkEtBVW14RpFEUREzEw', 14),\n ('KvWtJUUT_nEGfWJ2u7wbdw', 11),\n ('qgEKyJfuL5LBA6D3V9nR9g', 14),\n ('BmWG0-m4Yd-KuLLm1idz8Q', 15),\n ('a4GRh1TlOVhPD401mSPLZg', 19),\n ('pCb0jYxksLR562vV7As1bQ', 17),\n ('XHYxwXtnidQsm89rE_OIUQ', 11),\n ('oE6HazJcDu8ci8K3OeTlIQ', 15),\n ('PiGd6nJRhbU3s7nP7XOE0g', 22),\n ('d8oaTRX5i9au1T2g_ma2PQ', 16),\n ('dW9cPsvOGwlOpiz3wEBgiQ', 15),\n ('cXg2Mln6Pur6cWvxUxeS3w', 11),\n ('4a9Rypytzdz9NZuGMS2ZYw', 15),\n ('A0BrC0fPkWLbTrrT5GMtmQ', 18),\n ('b65Ugu0VDKDNbLq7sW9RDQ', 15),\n ('4tjKsIaBXCDUP9PL82Vu_A', 17),\n ('BsT7LTvTfITCSDQGyQvcFg', 12),\n ('pyZkGdnTwpRh5tFWfdmQEg', 13),\n ('A5iG16s4QpPuU4HplWhlyQ', 17),\n ('BSQgdjMm5pYSWuGyr-8pIA', 19),\n ('nIskoP3-_MttghA3d-eYBA', 11),\n ('i0sp8DNw3FolMn-uGIkVyw', 24),\n ('5rEKjXLslSp58R2ygAZh6w', 19),\n ('FJQ1vHzk6RkVNEf-Du2Tsg', 13),\n ('OqF8enx9gNcgWgdODPYDLg', 11),\n ('BY6sk5uACmes9rU7vpdzWw', 12),\n ('-NJlfv14ICeIxo-Jtz0u5w', 11),\n ('eQAp73ks6V6VmsAbZX4RJA', 12),\n ('3l54GTr8-E3XPbIxnF_sAA', 382),\n ('XMrLwzmEAsfNpbKRC7vUzQ', 39),\n ('IydiH1DIlyvwvpbkC9m42Q', 17),\n ('mRKmp_d7y_QaY_KBmJCTNA', 42),\n ('WbJ1LRQdOuYYlRLyTkuuxw', 287),\n ('te5yQQTQYcHHtztdQJTmNw', 20),\n ('lyl3FDeeex8rV5WfREZdyQ', 26),\n ('hH8002bWtOFYtLgarFZBsg', 70),\n ('NI3xvN6p0qhvUkKirbKokA', 35),\n ('Sovgwq-E-n6wLqNh3X_rXg', 205),\n ('odyYR1Bg2bqmp1kVlm8OYw', 156),\n ('xlb4QVFWB9CSPT7qNRn5xA', 51),\n ('qFZ7ReYNpjHuvSxOqXqHMg', 66),\n ('eMvikXS_1HlPyVctesxSjA', 16),\n ('7fbR8yaEV_aAdOaaE4-0FA', 21),\n ('NYwcx_ty7J_ZKMaZpdIkYw', 46),\n ('UANhchjl3NL7qnx-d1lkuA', 12),\n ('aKEEQqL1UFMieilnylI1gw', 98),\n ('toBMu3SXZn-dpdmVrPe4aQ', 22),\n ('nyM76RUyFzekHHmYEU-KBQ', 39),\n ('xtD-99RklyUGf3-kXKdslg', 24),\n ('fxoKYMF5V87rea7Os368Qg', 17),\n ('hDAs86ujf7fOpr4n85jEAw', 13),\n ('DuzxF9yWIxYqt4jDKw_bbA', 18),\n ('w-i7W83j1saHp9KzU5b_rg', 32),\n ('e99T6GFJZKebgG3qO9i6Pw', 38),\n ('v75-NKUn257GZqYH12M07g', 14),\n ('q8SrBqmGOBiXSJ6Hqy6f7A', 37),\n ('f_-4z3mXJOPBWsTDf1ztzg', 28),\n ('8cQc0BRbkSDSkLn6oFw3mw', 64),\n ('Sh-XzCG2pZ59g85kjROciw', 17),\n ('4LLNNwkveVoH1m6z_9jLGQ', 63),\n ('dPxZI9lrKTl5dvFfnb1_Ig', 60),\n ('y21M2pMkc0csUh0mQv7SUA', 18),\n ('AEoWScs-gYsXSUUmDbseFg', 13),\n ('w-zZEx0WWguQApPmFN7PYQ', 11),\n ('8TZmBlMzzEgbsuPKd31xPw', 23),\n ('gp9nRRCpwsUrJxFFrvObmg', 15),\n ('l9oTh1HKQt_o4SN63cNNMw', 12),\n ('sfYHVPv4ZBJdu4hImx2wjg', 35),\n ('biHCx2dxzgJHETtnIXL2fQ', 12),\n ('-cEm3lF3pLuVNJvT9mV4Dg', 13),\n ('ibkwcLZwaJ1pnPJVaI_-uA', 18),\n ('9SHoWGXsGOCa5hOjBOzPtg', 12),\n ('ZrqkbcCCfz9d78CFdBfhhg', 12),\n ('1iL0ZmCINct2yORMvM1e0A', 16),\n ('xC6gFlppuLaFUoNlZqniEA', 14),\n ('Kwd2p33wtdlA6cckVTwk7w', 16),\n ('_P7OjSDvuywYpcp8m_7O9w', 32),\n ('f9cIbhLyBz_qTEfMLfwrrQ', 26),\n ('PK_yJS579FjaNiCkGGa6iA', 26),\n ('52sY8-9al5LJi475nNJkyQ', 42),\n ('2t-a8qkgoRiiohThDVjfNw', 41),\n ('06DCX9iJ3n19M0cAkQo0GQ', 14),\n ('yDVsb2f-rGoeAQhjXahnZw', 17),\n ('GxrRTydKmLo2Bmg0ZE7F-w', 19),\n ('KFrJTt-NTXUrsdr7BGx5dg', 18),\n ('pRmb8_tAP5y4YPt_viL07g', 45),\n ('6N9NClBpOi-GoWckg137NQ', 16),\n ('8gwTY5nZmV3CiP9xRYc--w', 18),\n ('hbZlj61Bql7zgXY8amztpA', 17),\n ('uKesGTGs1o5KgazKq-0iMQ', 11),\n ('nc7YTLSXEWPG4Q0WlI5iPQ', 36),\n ('Ki9N8VBWvEs3FOpAjeNWFA', 21),\n ('IVAI4jFwRANbNCST-yhAHQ', 12),\n ('J7KlrDFrriWoRkIUVNRPbg', 32),\n ('uQlnEOPmGYLFn5nb3qDEtQ', 22),\n ('9C66IoIbIpYXjK-biGbe_Q', 22),\n ('zBd5JvFWuMGlnCYLaGsXZg', 28),\n ('YhBigRwAFdRPIQxWDjZOrQ', 17),\n ('ixxLqsmRZWAF2Kkv9awPNA', 12),\n ('5lD49ZF32TF55-msaKPjEg', 11),\n ('LqQBvrgt12QiLvUD2Tal1A', 32),\n ('gm8BAH6eZrDkJv0CCas0Bg', 13),\n ('MTIYKcg4Vq6dVigYhuo8Uw', 18),\n ('hupeXWY97YCwZQYC79F6hQ', 13),\n ('ZCkk37DKgj4VS4t2-BR_8A', 11),\n ('bUO7a2oTcynlEwaulDI8_A', 12),\n ('kCsj7yGDSHooNzKgBzxtKA', 13),\n ('-d0Ou1JmEK2j5HR4PGMahA', 13),\n ('QI0PGXbGkIdInOOBeq6ieQ', 12),\n ('8iVd6gMWKGGU9SL55B4vjg', 21),\n ('OsS2vShy3aCxtsNSO0pDbg', 18),\n ('sArY4vj_AtHLZoKHscD4ew', 24),\n ('X3NMHQqicl2ARwIjwNFERQ', 24),\n ('R4oKXgcfiIRjXmBGrim-Mw', 11),\n ('Sg36zmOvyPAmuz6vME56Vw', 12),\n ('QvI-IZJvfpdWINxVghv07A', 16),\n ('ZBZ65VZtuELsvrN19uJLdg', 12),\n ('6OhahrmtLGmkUdPfaMck0A', 12),\n ('6Gm8wh3N-su9wMaYzGreAg', 11),\n ('EOgc0bpKoQHTmbXi203XAw', 12),\n ('WYxOAOMIBcnqf8QHfqaAIg', 11),\n ('leZNWLccyBaXpPIRPK_lsA', 12),\n ('5FPQOwwPkBEiy8df8d0SPQ', 15),\n ('sQ2dJZ-oHWe2rs0QFLOUJQ', 11),\n ('C8Ehjy_oDzYcy3-wf32Y4A', 12),\n ('sAc5cKro8LKjIhzeLfl6Wg', 43),\n ('l8ewXyH88N5Y_BOPXKAQZw', 44),\n ('iRwT2pBa87Y54q8nqfNAzw', 87),\n ('JpgVl3d20CMRNjf1DVnzGA', 421),\n ('pUSXdML1e4ThKmiqa1Wvmw', 13),\n ('eLFfWcdb7VkqNyTONksHiQ', 353),\n ('QXV3L_QFGj8r6nWX2kS2hA', 464),\n ('qQvHYQ1uocuEnFcUdhxV_g', 35),\n ('77W1bMIEvBOFvE8Hx3k3pA', 15),\n ('rPFTo7vvIYMGgMo6zyGRXg', 14),\n ('oRRU93M-gYqcnes16GuZTw', 40),\n ('sWzzhyVrxwvwyoxzFH0mSQ', 26),\n ('E9OP8TODswMcmTEGXE1C_g', 17),\n ('geeYgSkufDK4ob7z3e0G-A', 17),\n ('pzy9xWQqsDxVU6j9MktRJg', 45),\n ('imZohCOk7J44metzGKHUkw', 15),\n ('IiwgHkUbBt9Ha25H4dUtkw', 37),\n ('LjTK9yifZBHgj2HZn8Znww', 29),\n ('prdA1r8XP03oD-PYvZJ5AA', 52),\n ('gHGRzRa5qb577oWHAO7xew', 29),\n ('rkf-2DNMGOLPSOk6Tqps8g', 23),\n ('aVmuRwieNxpW8vfC3s1jpg', 20),\n ('uNdSh3tpvbkxWj-xLoEzvQ', 19),\n ('SfSbWuoFm2HXi2Fs3Whn1Q', 36),\n ('nWbKigQTHKXMuwsvva_rXQ', 12),\n ('xoATPKo8rY_9wgHTNoWM-A', 12),\n ('V1EdIokE0YYN__dNYfXRdA', 37),\n ('QrbS4LF0Iu5vApGAJLNzCA', 13),\n ('fnxKfHf-ANBph4EqVARvQQ', 26),\n ('wNJpk_DvWyqEJfNXhpr2WQ', 15),\n ('N3J76CRP2H52NUo4VFuS3A', 14),\n ('d_q4avZYM1sOlQP7noJKVg', 32),\n ('f9ERQpAPOAMv5Ay0kyD3Yw', 16),\n ('EcRL1BpBvvQ5LnzgtFr8Gw', 11),\n ('Gr-2oBg4XyduSKbvnE-i9g', 47),\n ('rFRNjwr6Z3r4agQG-LtluA', 36),\n ('NisBqE_ENosyEuDwNvMzOw', 21),\n ('qnyTJ39UXke3aAS0gdWsww', 42),\n ('nP3bNG_wWyAF2RYAMoU_ww', 13),\n ('GtHWjaaAtDI45ml9wvUmUQ', 11),\n ('mqn4Vtpj6KLYHjkAVVMfVQ', 11),\n ('gwd1W_0Mgzqo3QxgXrt16Q', 54),\n ('VKQhuFBxAMFOvcSG6RuCEA', 23),\n ('1-L3RfFTq4tA0kl73K1l0g', 19),\n ('-Uix-n4Jqo4W7ERagC5qAA', 18),\n ('UhGzuKKUUmhUDvR4EtFqNA', 13),\n ('0Hemgm6gwrO64fDEWEW4vg', 23),\n ('98hNRWW4AC5IzEg4BP3f5Q', 21),\n ('41b2SLmjLcxTGLVRxASiDA', 42),\n ('7XTGtaKjANmZqp2QtN_iPA', 16),\n ('iI3jcwudiZYMVUeRPy-DwQ', 48),\n ('nIwtGMkMyx0elLxVFs1D6A', 16),\n ('EXd0QOsqz6sAOUjMJba_9w', 13),\n ('3bYHVaEMAS35PAinUdnDdw', 11),\n ('DL7V1_chkWkZtyG4_xNYfw', 32),\n ('ythpO79Oq_zO8tJVNY-yBQ', 13),\n ('S1xOEK84aG2iGUE_i_GNGg', 14),\n ('R9XSSEzwkmwwwqB76K7s2A', 15),\n ('qgB0b1SgA8TRC72bryxuhg', 18),\n ('HEOhtDZgK0CFhwR9shDU_g', 33),\n ('VeHqcEfR_-v2-bSvNYFgNA', 21),\n ('rCJ6qFo_liwGPzbupkLhhQ', 21),\n ('XfO5MZI2lH1U2HsMnIsYzg', 13),\n ('vqGzBf3rU46zrVKFHauLJA', 22),\n ('arpBUwgiaE8iqfNGMQ_hgg', 29),\n ('RLz9j9QASwaPXFM0i3kSHQ', 14),\n ('4TBSJvehKXHqlC9dOCDwyA', 18),\n ('V6Od7XYl_PznuG19DPfTAQ', 15),\n ('VsNL5l5hNLMdm4LUIH0KoQ', 26),\n ('eGP9T_kj0iM5h3MciSQjSw', 19),\n ('UdoRqx5AYhhGBH9GGtUZ7w', 13),\n ('ABf3wCh6pAawQ7YVP_YCxw', 12),\n ('c1_adyjYG6JEa1PZAXMOBg', 17),\n ('x7WmDyWVYUy4sPfT69nk5w', 13),\n ('6B-sZzuNYnVz5sk2c4EfHA', 13),\n ('hvNl3caXRxpULvRNQ-GsFw', 14),\n ('meK_kwDzNrke0hQNEpn4dw', 15),\n ('XFp3kd2f0TIC5rLAnIIOAA', 26),\n ('AzyNQACG0GKI3VuwKfiSrg', 18),\n ('583u2YN3KLBJyx4R3oFb7A', 12),\n ('Xqu75Zj2v7ZGdyTNA7NG3Q', 14),\n ('DljmXW8D07LVTA1Y69xosw', 12),\n ('OYINXFNsJH1th423Pb3qxw', 39),\n ('sr0rCMn-XtKATvl9adYQxA', 14),\n ('Kws-gPJjF4RxLxJE_2BjKQ', 13),\n ('wf-Uj0LIfPhVSbxlmPcUqw', 12),\n ('MWmuV3o6qcnYCktB755_-Q', 20),\n ('pPbkSv9GCoNbGg9BiVP8Ag', 13),\n ('7B-suS0RHxqxZBBfVfiPLA', 15),\n ('1ktw2saTrIr_YJSxQjhnpg', 11),\n ('aN2x1eMGssXd7EnG0kiRsg', 11),\n ('ApxgwQQCDd7DhU0du0ibWw', 11),\n ('96ou1MqdJjyeSqzCLZMqcg', 11),\n ('4aCun88uZMOsAoymY5Li3w', 43),\n ('fMbZz6-ctMg4s5VsHoO80Q', 13),\n ('ajoqEHnCZTD8-8GqGLq9-Q', 233),\n ('aS4t4ee3xqQXgNHNxi9gAA', 14),\n ('99p317EU5I0g4K8zHJD1ng', 15),\n ('iUg-giEl5nINQoc6yau5yQ', 42),\n ('7j5yndEexyQn9cpVXLIIpw', 184),\n ('gzDTRVYgHDyUmKmRu6pedg', 22),\n ('PRBSiB7ytkLKHVZoBYPxpQ', 44),\n ('0onIwbCKK8HRw1itKvbWng', 28),\n ('iyFS4twFjCKfaKl7kUl3sg', 57),\n ('AlGJCDUJ7EA797DsRCdeiQ', 40),\n ('WQJk1xlrRW1_PTpItQ_AAA', 27),\n ('BcW7Z9lPmOB_8eS2lEuOqQ', 136),\n ('Y-hmtitiRfg7vmc3N-lTww', 44),\n ('DV13F0bhe55dV1AhwoO50g', 39),\n ('_R1jBQQieKpNGMBqmrLRyA', 88),\n ('Zkw7LIIKJWHsdxkqU5VwXQ', 13),\n ('C8D_GU9cDDjbOJfCaGXxDQ', 265),\n ('7O73RNyj3XaQWSdv_1jm_g', 13),\n ('-CfFjcCcGGDM9MVH_d42RQ', 71),\n ('VeFqptSzekFAc3FZOpi81Q', 61),\n ('25_aVay1HeeCaRt7_aDaKQ', 25),\n ('ry9sjfc7MO8e7fgS8b0oGQ', 12),\n ('2DVB6Xwuq8omtJdMvOrqpw', 14),\n ('rTx5vu0zuhggAbgsx1uVtA', 46),\n ('fP2ZZSvd_3ySgR8OqxAyQw', 18),\n ('u8-WDsLXAl0dXQW_wqWrDg', 56),\n ('upgjUq616Yz1IvAvysDLWA', 39),\n ('fdxyed9ej2LZReHMbESIjA', 19),\n ('sueADCkf8a4m3Exnd-4qeQ', 12),\n ('nZ4HW543eDyqqE62QYnChg', 21),\n ('BQIscJNv1rNEZpV9S7Z_tQ', 11),\n ('JNyho2P0jSk-0T30T3A0OQ', 29),\n ('lf4NFBw_MZYd-HDi90n9SA', 15),\n ('WPCgtEG-bJt0cZtnM-x7yw', 31),\n ('zKacC3jzdl9MJLkczFI6qg', 68),\n ('MmUwlfRrxVLON3NWOobC_w', 14),\n ('eOKb6Ep9OmR4zgJBwM8W0w', 19),\n ('CDqPVVvQtVncNQGydnZy7A', 29),\n ('OFw59czUoeeosFMKfRawmg', 86),\n ('flCF_Vp9NOpTVeGv673nSg', 34),\n ('micICxe_PKxnPERTZr0xDQ', 53),\n ('JMkBrqzBKFtVgmpyAy3jKQ', 18),\n ('KUZc2Y9wOkrTp3ABSPEBKQ', 27),\n ('WcdNwJ1DVcHz_8tzuphweg', 21),\n ('FnlNoLbbYtljVmte6_nZFw', 28),\n ('v6zBH_Nsdr8meRGstAE9fA', 17),\n ('6VePv7drDpoG20ytyBFh7w', 52),\n ('-qL-wX-UuMaHDBA2X5G4kw', 14),\n ('vDcAGfBmpNz4xc_6qeKWpQ', 15),\n ('1FDhJNAuPXRGbMi9x0muGA', 21),\n ('eWX0XKKick8Z44QGlsO4Lw', 16),\n ('HwfEGNYgE0UZ3aHgCTQCfw', 11),\n ('kJQw3U9iLHO1MLLso3p2Uw', 15),\n ('PyTHy9VPOhBCiGLsi-PA2Q', 21),\n ('BIaiy9t4NyEop9lr6hMu4A', 13),\n ('j8OUTcN1RG-UCzFUW8oogg', 11),\n ('vyV6gX8EAzKHo_wk0z9kxw', 14),\n ('FUFrBIHOdFXTLzD3_JL1vQ', 14),\n ('L6zsmdB7TUzvcxFNUyYjyQ', 16),\n ('d6_51PI94EC1C5sG9hi6HA', 25),\n ('joMyW9KcBEsHJxQuAMulaQ', 23),\n ('dhvePGMLjWvl4fhk9lgxew', 11),\n ('boIILzBqhjWhq4G0BsB5_A', 26),\n ('eVvC_0Vgsg2wsdB26uGKTw', 12),\n ('9v9cMGBpUm_IzTuPfXXEOw', 15),\n ('2JUNJzagYiyWA6G_oxKJ0w', 18),\n ('znr2_qMyy9SPi5UPfCFulA', 23),\n ('xuD16x4Jlc__QMtl-AY6Xg', 11),\n ('cVDZhcjYXz_43p59jdl_mw', 13),\n ('jgT_qJp_khknKCpsDr3fGw', 13),\n ('lDW17ZfA17a-5yg1vCK3wg', 11),\n ('zbrFk-4ejesAJD8EwcdHxg', 55),\n ('udh__7erx4PuM5quw8zuVg', 27),\n ('k5rV_nKkYQHX0ebB3qV2kQ', 25),\n ('tTEtAzGbydufWtgOqCMquA', 72),\n ('0AQnRQw34IQW9-1gJkYnMA', 204),\n ('ZCzey5aPhd7jYIoHsUfjmQ', 159),\n ('vdo6W3PEwiMSynjdxSiv4g', 30),\n ('FpW25osFTrQf2dCIzAPavQ', 13),\n ('7Xw_vv-ekUL2sTqipnKT0g', 71),\n ('749lGtWM9PsrWonlVY4W2w', 23),\n ('0jMWCioUATOJgMpsPTyC7g', 13),\n ('fbLYRHIZAt3q839whhaBUg', 52),\n ('9MpWhQOYziJ38EB7MctxcA', 26),\n ('iA8Ve2sZKN5Vz3mYKrtCaQ', 114),\n ('0THp0OXZnZI_dXkVoxqhYg', 14),\n ('Se-co1eXBho5A4YwMfKMIQ', 61),\n ('Oqqnw0Rz77sMDPHS_eN2aA', 18),\n ('Zm2UxtBawR1oufodiW0tZw', 19),\n ('5a-eAIz_Vlrx9lT515PK7w', 21),\n ('Ed47ZME7NcLTZeIBUYsdog', 74),\n ('4g3IsMpBLReHDA5JatpPzw', 11),\n ('LvPOrcROpCk535GhmdJAzg', 15),\n ('rphZ0RuQ120z3uJX6dRJ2g', 52),\n ('oO5jC3tOmvIy7JDExKYl2g', 24),\n ('mDiFWhywAziq9SKnj6am_Q', 36),\n ('the19uDwR-41n8x861F7Hg', 35),\n ('XbooiPex1pWSy_pfPlavnQ', 14),\n ('UXFLCGw1yOCajlMONYQM1w', 37),\n ('kuJRRmmmDUXqwM6kNihXXA', 27),\n ('4pKPiKAX9qm8TU-bOt7Pmw', 60),\n ('dTIUtb9q2vZAUgsOK5ZMPA', 22),\n ('lZZLmG1ANLq2Yb3KuVA4NA', 56),\n ('yU4zevCwPAQIMb73smTHog', 19),\n ('FGnu6kgxxYhI-oNL56wQdg', 16),\n ('TEyX7oJh5Lj_YsHwwx3muw', 18),\n ('yx4SuEdloQxr5FR4XcNaTg', 18),\n ('nrqN45BQyxDjXy2q3VdolA', 11),\n ('HccqNuvwDCrnAAM5e5lQ_w', 11),\n ('nDR44qJoC2NZwhy0RcIS_w', 13),\n ('b2gSNZj5MFCsfse0cO0CXg', 17),\n ('g9vzFlunYXagaH5hNkU2Uw', 11),\n ('NcZYVjg1gqDONZW6MTVA2Q', 12),\n ('p6Rf2hsyF1eYVJk9ag3W2A', 41),\n ('FLxSHWJ2EWBQ5ghsDHfGPQ', 14),\n ('ClnWjgG9IMP7EPEu9lPsTg', 14),\n ('Pp93J9-VPxgEyMBB-NhUog', 29),\n ('nPdjZS0_h1BAsUbWaO7I2A', 19),\n ('qxTtvf73qDcPaFckkGJwVw', 14),\n ('S3gVMHlrQoJPzM984vCeBg', 20),\n ('X6UI4rkQLhzQXk492V_GAw', 19),\n ('tv-WIUQifcp5J9pUKoiE3Q', 12),\n ('pZi0lniNSqE6kO8l1o8WZQ', 11),\n ('KY2vtER_NgmonFNY_XFDpg', 18),\n ('NGGlOtWd_Xc14WFVYOmMdg', 18),\n ('8LUKD_9rkJoUIIuT9uiDbA', 13),\n ('wMc9OCRrfhEMzONtNgpS9Q', 13),\n ('nXgyXL-OXk6NGi477xt5eA', 18),\n ('FucKegcOSCOkdPKQoJSJ7g', 12),\n ('5cBF1x9873GVQ6FIw_Fnjg', 34),\n ('PGbxb9OTd7RBDkAiweOSTA', 16),\n ('P3ufH0wm0jvulnrinDpaAA', 42),\n ('EAOEPBsdAPAivum0er6ZPg', 20),\n ('fnIYKuME5bdxjifvHbP45Q', 18),\n ('SMrdfbvErYWLXfc44FwKJg', 11),\n ('AUQdUUWIdbs4pqAzQFNhQg', 14),\n ('IS_IWMsFRJii__17LsP1Og', 36),\n ('7ADjU1ZmRfUeMebjbYU3kw', 24),\n ('4v3VBHPh8wNR1zQ3PNtJOg', 16),\n ('TH34Fsp9fkARGhKa6u3qrQ', 20),\n ('B1tsu2zSVlY_g1QS-z4ILg', 14),\n ('LZxSxY98S7l4a7tJiTGufg', 26),\n ('QwGV_v3s9eOMzfWrFLUf6A', 12),\n ('sqHRwTOpFMsdoN_3xsTFNQ', 18),\n ('CiIU77E_v2ReR4S2GESsrg', 20),\n ('ESaC7VsaUh2eeBFAhyYGiw', 12),\n ('gtqtnzgzDCWVFi298dIvow', 14),\n ('r-8Pz9GEvsKNCVZhPwWREw', 20),\n ('V0rV3vIzAYgZT5CEtwSPsA', 12),\n ('eajXb034hm_9M6OgN47LKA', 11),\n ('pWffwFHO7Awb4bULH-XoDQ', 13),\n ('iFZpyiDUgwldTWuW-5YW6A', 12),\n ('rvHGv9Q7r5QkIYrCZlfoAQ', 19),\n ('Xmhc0rDJ7FyeME9t-GeUtw', 12),\n ('OgJ0KxwJcJ9R5bUK0ixCbg', 384),\n ('DfgZlNgKwBvCpA_0alumXw', 389),\n ('62HlThvB9Rm2QFu_OdXe7w', 83),\n ('TYxv87hEIjWh31KKxb4iKA', 12),\n ('FB4qtiB4--kt_PqPSowJTA', 38),\n ('Hooe-5-Drf63HI9Pj6dA5w', 18),\n ('6Pk9PJOD7EWd1tv3lk0ajA', 56),\n ('DoCLK_ekfIsFB7_IZlWhRQ', 13),\n ('aq1rdvfvT9_tleKI8OzRaA', 13),\n ('rZOzhSA5HP6IdpxuN4v66w', 32),\n ('SGP1jf6k7spXkgwBlhiUVw', 76),\n ('JrB6On8q8f1_ICQSCLg47w', 20),\n ('iNwd-OTTWHLaW1pPMXUq6w', 31),\n ('4UVn5h6SjztAhKyozc5dTg', 22),\n ('W5d8iNog90R-qw43m5dGwg', 44),\n ('liGn7sPOvUuy3kcwbhRkbA', 51),\n ('B5JCODx4728Ce2Qca1NFHw', 28),\n ('JrgbxRuZePOaUgCVbGtDYA', 24),\n ('v0byOL8VL6v6muGa1anxFA', 57),\n ('rjiiyvmip346Mj0_hPTlKg', 15),\n ('OaksCsORs2tUGxSJWhydJg', 44),\n ('ZCC2rUvs2ydCzR6MjwnOQg', 15),\n ('y-KWX8ea5MX1eIJke7GKUQ', 21),\n ('g-E12y45gBKedax5N20YmQ', 35),\n ('g-vuRyYyVDUryFZlhhrZQA', 16),\n ('_ECQWs8prRQaxHZv6-sv6Q', 16),\n ('OD61KMut0q5t2XBMZazFeA', 30),\n ('uYtlrzBwtekPt8GKwUBoWw', 68),\n ('tbeyonV9fwKRf1jFZ4dfqw', 26),\n ('QAg4ZPTjcyP8saEffAaHlg', 14),\n ('da3c-sAS3KM08YVnSOOBAQ', 12),\n ('Z6E2Syzo_IYLIGpI5tSpRg', 19),\n ('BY7KbGp2dPDiw-9TjF0Zyw', 14),\n ('ZilzayEdyk70SoI-wruJbg', 36),\n ('fBxDUu5ftmNHbbX5qD_FcA', 71),\n ('0s8BqnqeQjZX0LU76qEpOg', 20),\n ('_sOni_t0FvAQuUDBEGe3Gg', 51),\n ('BmPyJ8qbussUhCu4TxiKHg', 13),\n ('0EyV5VLrzWcTDI7pkXQBaA', 13),\n ('Ah4i15g8Ow_zphzcpulTxQ', 36),\n ('4cH0Qq2krJS4tp6LLJcopw', 13),\n ('AA3gAf3qlH6GY9Uw06wUFg', 38),\n ('7PRse3yCQbEprAj1DWrEQQ', 43),\n ('rypyJ-Dzu21pejGkJaIrOQ', 13),\n ('gEv1Og5uGDLw9HkbKSGUZw', 32),\n ('wQ45yxhEgObKB3W8lw_R0A', 15),\n ('z2JTN5PXemCRGtGbKiOvZw', 17),\n ('BHX0ghpo_r4lVxGRPEBIQw', 14),\n ('bNt_GCxZjWZne1odwDicLg', 14),\n ('nkTiiS4qTb9INNOWVvystw', 12),\n ('FtW8cRwh_mRT6efsjtWABA', 24),\n ('DuMWyxL4DMcy5A8MXD_67w', 19),\n ('fECudezmkuBipHcaDhbN9Q', 20),\n ('EOS1D1APHwlU19YL3A1PGQ', 22),\n ('OEfn28Zv8YkF8tc8Pem_Hw', 15),\n ('oZ-i2rF8PkOEOkQ_sSTGtg', 24),\n ('q5WWnhtprzfpHPYt1RVxHQ', 12),\n ('8BGGFZNk4CrlbAeAaI2Dpg', 11),\n ('c0ZerP3dvw3x2IWXzNKDyQ', 27),\n ('zYZPpOqo_2YrLJLOmjlgPQ', 16),\n ('ywPaE5Ai8SK8TeUoeMgJ6Q', 15),\n ('-RmLe9SKAVPkeE41chS5iQ', 16),\n ('yz66FIUPDKGhILDWzRLeKg', 47),\n ('rCzEjrTxfS-R2tIw5X4c6w', 11),\n ('MHFbE2uVB-_TEW4ZSSTlBw', 19),\n ('v0FdDAXvEYieRWcngbCe1Q', 16),\n ('BpEEAmWJSl-XHBeVQt2ybg', 13),\n ('ofTjkad-MksyUyQ4IDNazQ', 12),\n ('kdjrQ2tuY4eqo4JZWIx50Q', 15),\n ('PbNKg8t_VNKzxPKydtkFDg', 13),\n ('KKRG0UUeGwaYxzi6Hg86TA', 13),\n ('6CjVFTO7F-q8BP7oQKB_9g', 21),\n ('APLfzC4bgq7wVwq3aoDE9Q', 11),\n ('ep_oilY5PyyEJDEN77xQ8g', 13),\n ('YZhqXSLLrDtRjnt5XzQGXQ', 12),\n ('NTQXBbCa5Ugj5lNr6E4J5w', 39),\n ('qXk2CS1-6jKTKpMUIgN9kQ', 20),\n ('Xw50tINqzrI_BM_x7_IcZA', 18),\n ('ZEW2tHdcRuwKZv8oXY4rCA', 13),\n ('kDqgPRL75KG4lBxJsYUJlw', 11),\n ('anrLWKAKm3hFLcJpbhEDUg', 14),\n ('JpPguWEzvNATjUJ48xCj8g', 19),\n ('O19VReN1I2TBrJsbXUAIJg', 18),\n ('GWCd4xlTdOwcaaSSu9b9XQ', 11),\n ('nl2nsBi9U3sW1R34nF0s0Q', 12),\n ('FwuSvfRx_xkWV61VnCy9ug', 17),\n ('yQab5dxZzgBLTEHCw9V7_w', 326),\n ('yvqcZrHixuf_oIUW83xUcQ', 33),\n ('Lf5qFOWu5qg1zHYkZQgeNQ', 23),\n ('T-Y-18idyUMTc2_StnC7PA', 16),\n ('7sPNbCx7vGAaH7SbNPZ6oA', 595),\n ('5REYrZfsX3m4E3FTwovp5Q', 58),\n ('IT_4EEIbv6Ox1jBRMyE7pg', 254),\n ('4tzmCT04wTAbbiZFKo2cPQ', 32),\n ('W70JrBKLDFV86PpgFu5m8Q', 29),\n ('ByZcAtm7-QuSCplgXK9PtQ', 62),\n ('em3TpGN9BAA85u2lXewDiQ', 20),\n ('D6WXf0lB4pfuXZH3P7c5Ow', 37),\n ('kCF3AuV-2LowMdVlklLy7A', 54),\n ('sKXiZNRix6vWSxZDXPnRxw', 26),\n ('dHTGzM4_3kKEiQvab9mi9A', 23),\n ('2ktKjN5z8EcqmUv6EDiDgA', 28),\n ('aOAVrtAOpDTeA_WFtiRAOw', 12),\n ('sdYkVaTy7EJwUkO8Ie_qPg', 149),\n ('m9aFZk1f8tSv248YErbpQA', 45),\n ('ar3s7wr7p2IlFxI3SwVuMQ', 16),\n ('DfHXyJEcUmeO9XUsdJpb5g', 14),\n ('F0lI9okn4pzmN_iq5UqF7w', 78),\n ('aKcqbWSFjoz8BoBEs4UemQ', 17),\n ('0-yj2jtzLUHG2b7PpEHyog', 22),\n ('ARWLV46iIa3Dvt1y8-SPpA', 37),\n ('LHyj66waFlDcw9UToo27JQ', 161),\n ('tGLz8WfLwSi221wgNh-0qw', 35),\n ('_cjPEH9wXhKS-HQe_U3M4Q', 80),\n ('12f7GOkkC0GZRMif-fidhQ', 11),\n ('qutQLFutEyHy440jpADnxA', 46),\n ('xko9a0myoKffQMzz96O2jA', 14),\n ('2_qLxCT0jHM8Xqk6PEwrBw', 66),\n ('D9J1Ihmz7wAWUpRJ0QIn2Q', 21),\n ('cNezTYZOYWajWdsjZ8bR4A', 27),\n ('8pZ4tWeKXbON5PQbFvOJ-g', 21),\n ('IGxxnH4Q2S2y_ZdFFW469w', 20),\n ('ZHwkaRws3pUwgPy6xep1Kg', 11),\n ('EgilPuvZVfxoHd3F3XFs6A', 20),\n ('SgtiWJIU94smnrKxa-cNUw', 21),\n ('iNeiyfZ7MHK8dI0QZ4Ucsg', 17),\n ('X6x_piFm3fxPSSyN739Kxg', 11),\n ('hYX0z2C6Th5XmcrKOP31fQ', 66),\n ('A5Xd85djipsW546Bq6qIYA', 13),\n ('G_mqw9nNYDFkwtCe5Jd8QA', 34),\n ('xo1FxmxwWAXIVZ1MO222dg', 25),\n ('Tc1ly-0VLk3AaoMb7CrlVA', 61),\n ('hXVaXtDO9NnvCOSMtFuHRg', 27),\n ('SLOk1JpV0JQK-MXYroDKYQ', 19),\n ('JOoblYsQjFT-47tkt6om0A', 55),\n ('VhQXJteVrG3L-wq8HlYFqw', 35),\n ('rgTcICdtCXoNXc71Z7-t5g', 42),\n ('rQXzCp-vsVpsPWFZX6Ua9w', 37),\n ('IY09uHwNvznCUDoFZ_su3A', 53),\n ('L_LjeIL2qW0r-BkDqDRcFA', 15),\n ('R1lFYD5Ob_Z3j_G5cyr6fw', 11),\n ('tWdp26XQEJqJGnRmFVJQxA', 32),\n ('j_prxgHnMvuRdrGjAI9qXQ', 33),\n ('0wr58lAX4e_UX0CZfeEoKA', 24),\n ('yeiS_cpJyxMYuYtBPxkYyA', 22),\n ('3ZNKTN4QC5Evf7JYFhWvww', 29),\n ('hOxNKZJ8wWg8Q165U7CCqg', 38),\n ('FuNMqkKUGzDnX4XJcJee4Q', 19),\n ('Qw45ZqhBR0VI5_cI60SgeQ', 17),\n ('Q5_GTZIfFOtPUskHq5nW3w', 26),\n ('YMZy_nGxtJtuQvflM6Ltww', 19),\n ('5qc1Xv36E36DF6zCBG51Cw', 32),\n ('xNqafsfYDataNwTJjKh80Q', 35),\n ('0qOI8lOZvvhrbtxqjaBQMg', 22),\n ('aow8T0EAFdYDXmVAUO5aFg', 46),\n ('J0ufK7WAEq6oAdpDFz2xVA', 22),\n ('Dd99oGPGdOiXUeGqXyOgwA', 11),\n ('sFRN5maBBOPkXYuqLs8ueQ', 11),\n ('k1eK3m-M6HOhMWaZnGuBdA', 25),\n ('yBkfQ4AZkjYUcZqi7cnrbA', 18),\n ('SUy-KO2VRSshEK43xvecCQ', 14),\n ('otyRCkvK6Kd8Gt2Va-EzDg', 12),\n ('lV5Wg1-4rZZQAmJZqaMysw', 12),\n ('dumO6I2X9g6dv_70NDWkmw', 16),\n ('T_tCnwWz5NzmRHmBoXfDDA', 51),\n ('fgxW2Eww2MzMHd8eWT58Ig', 13),\n ('2xrpo-LXV9uGIwpvy0dwUw', 20),\n ('CO8MpD1bSkBPArXKBKkIfA', 14),\n ('hbuVhfMb8r3kVNZ-thX16g', 16),\n ('RG8487-T5dZii3f7APO64w', 12),\n ('eljIEwXQGzY8nN8G5ozi8A', 19),\n ('Nkp_VPfudWjnW7vSwnI1ow', 11),\n ('lmarjSTpK1RkyGUJS7a0YA', 22),\n ('D7e_2VZ2vcVhrhhgaIUluA', 25),\n ('A_IDuR-gZkTDdwIlJ5qRNQ', 12),\n ('VVUL1lzBOipXJlOG1wURMg', 13),\n ('RWP9WWl7xpRgboblHh0VGg', 12),\n ('iyr2-mlj0oz04ADOOkgCIA', 12),\n ('He_4k_w_8bjWnoepahS2zw', 45),\n ('k7WRPbDd7rztjHcGGkEjlw', 12),\n ('IWKtGvVg4hqc9rWHjW8KoA', 196),\n ('byOhOn25YXJf863vP4e6vw', 13),\n ('fuC3sui68QWg-rqldhJ01A', 14),\n ('8ZyOqUYfHB5YygUb97TS3A', 48),\n ('XPgurhZwZgNAwHcrpoe3Zg', 26),\n ('thBWpIcP6vclsHS6GfI1dw', 113),\n ('CqAfATa4bN_VD5BuY82TRQ', 22),\n ('Qmwfg-PtYuCo5Q_IwcA_HQ', 77),\n ('mmMihsgFSb_7fp5rAXiW_A', 46),\n ('skoASvPtw6hzzURJSzjZJw', 13),\n ('Lk2I8GTjKLd_R1drktNWNg', 30),\n ('38OrCpBBQG-dzhxfXrFQWQ', 17),\n ('oaKIZDt0R1qylXe_QoSYIg', 29),\n ('aGDo7GDN5YLvpYykpSLkbw', 85),\n ('otfjSc1SWe5L28VRTkuEFw', 11),\n ('W9y-Bl9030-rmfxSTmUD_g', 117),\n ('O1TvPrgkK2bUo5O5aSZ7lw', 113),\n ('DM8j5g9k28vEOTM0kz4KVA', 14),\n ('ZMgBp4XmiEHYAuXKbe1hUw', 26),\n ('Z0o7EnCj3fgzC7E3QRabhQ', 32),\n ('7mgNBuU68N5fzdG3JxN1XQ', 28),\n ('v078BH3cCAeZyKOTe0ogtQ', 14),\n ('iBlQvqiy5Rg2h-y9TS1yOA', 61),\n ('HFyMS_9yLaYN7GIcXzcboA', 33),\n ('F4zvnOsgjEV9aVbKqBYRng', 33),\n ('mJFdBXviC-1YRtY51XnS6A', 44),\n ('l4pAkHCVUKAcDvo-iNSbYA', 103),\n ('nW4UcZHFbmKgTTkmN1vx5A', 12),\n ('caUPXiOxvLGMsorJBtNlhg', 49),\n ('KMxrk1YDlj_qFI1JXK4zRg', 14),\n ('BR6vRvKIaleduW9hi8yQAA', 17),\n ('chtvAzSI_XsS1U9foHBdbA', 12),\n ('HTiupfkYLtdXByDPG8z7KA', 14),\n ('IhjrIdQkNgXIobdKg6eFmg', 21),\n ('ReyjVKUEVKZHmlrBxu_h2A', 62),\n ('V_wxBI85L693fqGptgfN3A', 23),\n ('4XH5nRjUVKyRNituBAwW6A', 28),\n ('RckeGBEPQpGv00ivf6tcgw', 29),\n ('RG2IGb4LwbxUwCW3iooYDA', 18),\n ('Q28MO9hEMyG0xrAnOF-dSw', 27),\n ('QUvT1bLQ1qBxkWhLUa_FBA', 20),\n ('NMMu2D_MBnfF5jpd--vGWA', 11),\n ('oSrTdvRGrJ24ofcquIFoPA', 37),\n ('xft8cf7uFW4Q1NeHpyR5VQ', 11),\n ('Ma-o0AVXIiGxkbX3HPMOZw', 25),\n ('Fd5Q8GrB-jlAIPM8AmL07w', 18),\n ('Yiz2cRBakfVUOHsThLKyoQ', 14),\n ('F-ULgBFmiSqG9udQmu6CCw', 26),\n ('VmVTDmlLZdwoRVTJO4niaQ', 20),\n ('P-nqq5kOv2wV2mB5To5elQ', 45),\n ('Yr_w9lakJrKMyEG_hI6zbA', 24),\n ('HPfcEJh3ivdX_QehRKZYrA', 17),\n ('e2uWs-oYZ2PB4ybr-UhErQ', 20),\n ('7dZtL9I_AsTQ1pc6t9TTyA', 20),\n ('CPxUsIkhYDSHqgz6sNDmqw', 19),\n ('zsYYAnHEs5qzsfazSsGkBw', 22),\n ('kzqx6Z2sse8PV3hVCVEw4g', 28),\n ('U_wgsoNq7Hkdr95lq1CXnA', 12),\n ('MwI_po3xC40QUnoak-0Wgw', 15),\n ('1XnxmIP2-BWNkCvREM2czg', 19),\n ('cCo3PiT9hm-eEA6ti0kP2w', 17),\n ('qUSisWf5QNIMk8aeVhwKjA', 41),\n ('z8HtGSCKh8bLHNvL8Mo8AA', 14),\n ('5XXFsXKdPxCwHUuw2FeYpg', 11),\n ('SLshpwfoPleOAwBZuN6n7g', 16),\n ('EYBmcWCciQEplPCu6bPBxA', 14),\n ('ioY-a1TntpsAGJAG5_1Zyw', 15),\n ('SKWdF-eWM3v9LFvFK4e8wA', 11),\n ('6F9cnQ1fN8u8hNuMu9Ds9w', 18),\n ('0TljdWRIDQzlp4siHQ_BAQ', 18),\n ('zmltWmTpoBt5sCU-5Kzj-Q', 16),\n ('CNPnbJlMmCx08geOvDmH7A', 12),\n ('i7__R4dmGUayzNB939Zm0A', 27),\n ('TryUg8Noo4EYMXE-93vVOw', 25),\n ('gp1qvj_atHX3LpnKKCZAzg', 15),\n ('RpJ5XykQ2PTqq0SWWtDJaQ', 11),\n ('ZQ0CBGI50UsOq2BZe1WIHQ', 22),\n ('VMC8JY6jZ3uYlgnrgBKPEw', 12),\n ('FLqJua9_ig5KChNlaLpQBQ', 13),\n ('YQ0h5NTYgrBgOXf2VRYKVg', 16),\n ('uBdYMY6a6A7FyxzTSwOiDg', 214),\n ('jluEI1ZDQDeJlbl-M3YH3Q', 34),\n ('owjS04hpDA-XExecvsU0OQ', 41),\n ('JLMglPhN8aOIKZNBzSBlTg', 23),\n ('ECOkEVUodMLUxvI0PMI4gQ', 392),\n ('eNGEqOTCHTnqoOYszx8xoQ', 20),\n ('2xlQ1OA8iU2V460CgS37-w', 33),\n ('_n7WS5jqFs89WHOINineqg', 19),\n ('qAg8GkN9rforFWmGxBqVqA', 35),\n ('xWU4BbO_6KcqbDzrQKZmAw', 12),\n ('9gct8O45iM61SDPqKZwMVg', 11),\n ('fvzG-ihjWaYoyPQ7WId0Fg', 11),\n ('fjJeO9R5YLOBo15d3Ke2bQ', 11),\n ('rW5N-fiNhqb-fR3bGqyPdg', 61),\n ('BdzJQypceJ5Bam2P7egoiw', 32),\n ('3mK8yeLPWYofeTfXfp8VOw', 28),\n ('T64FH66qs4EN0d0ds2f5fw', 88),\n ('DpCdZ3EfAoGgJzcvaR0quQ', 25),\n ('xnVkYE3iMp_aZniiCIuD0g', 34),\n ('HVFKw_1abKVGYscxYKlKYA', 35),\n ('269jIQkeE98UJQUeCgQNuQ', 28),\n ('i--dxuKd_6Dx7mwgQ5nl-g', 81),\n ('YAODkC2s68TbF_kB9rFmMQ', 51),\n ('lfXfxBms5z1nwzkxxLFBWg', 17),\n ('s6lTNO57vXsfzyYrPfXOvA', 58),\n ('e13SEvJud_vgeDR_doL4sQ', 149),\n ('XlOI0qLdQch7YDAs5A011Q', 48),\n ('3U6KnoF3T-xC5wtL-Xc8hQ', 29),\n ('5uMfIYovqfgk41abdfFegw', 20),\n ('R9gRb3T8t-eIKlOtMPShuA', 66),\n ('eAf1fi8wlDt433b6ITQtlw', 35),\n ('lyIHmlIK7PKwQeGyR8svJQ', 55),\n ('CmWz9r3smcLzCq2jgjcNOQ', 16),\n ('ZdXmqDu9OwEVeVF_9LUODQ', 12),\n ('Vx5WtgU6YK83xCy2feLJ6A', 13),\n ('db04aHdl79B5OUo_tknYZw', 58),\n ('PAZC7ENEmDDgNMZngJSxxg', 17),\n ('-Lgj3gdQZiVngAEc1yALzw', 59),\n ('MmfqdfguEgRCrugA8qed6A', 22),\n ('VKmGedwOk-16D7OawNg_ng', 72),\n ('70MVDnc3etk9RKC4AUtIrg', 12),\n ('P2ho2ZOr0P49X8-HAMdulw', 16),\n ('GjT8ZitwOVdP2ttJIam-ug', 50),\n ('e178giuAicIhb16ymOtiBg', 32),\n ('MqIgMLUdD53r_dmx1goYJg', 57),\n ('9LAXz_VfATZ0kLdaavkN4g', 55),\n ('w9gr1-mA-7zBHPjPL87Nsg', 35),\n ('SJU-jRAZS0cXoBGUjX5GUg', 41),\n ('T5nTtSCSRoEYMsZPhF61wg', 54),\n ('B1X-D4mRW3VjNUUolPDItA', 21),\n ('ZeeWNTA3wpabS_0Y1We7DA', 17),\n ('6rFjfFSavabsIxEKuWdk5w', 37),\n ('5CN31w91vmWyMC7N6CKGVQ', 19),\n ('tcfL9_Qe-12eX4rdmK_6XA', 92),\n ('vstifTjwsVFXc1aprX9_iQ', 25),\n ('Bv-H7ihGKZDQlKZ5wrEwYA', 12),\n ('jK4uhkUu4hDbbHJyvkBvGA', 22),\n ('Wzc9rUMBbEZfcWw-zLBkOw', 31),\n ('bm5xwrV3cd7a0T0dYZ3c6A', 14),\n ('mmazCP1ZH0QsUqDS6OivFA', 95),\n ('rVcavfM5BC4tvv9iHBo_CQ', 28),\n ('I2lDmQHDxnUKbEBJuJCW6w', 21),\n ('ot7zeQVoPlXVEgqridSm6w', 11),\n ('n4_9d6M1n025PKUnu2MPFA', 11),\n ('eWmARaQb_9vxq-zy5PVvXA', 15),\n ('OBPiT9OyFDaTfaLRwfqlSg', 19),\n ('ImkAc07Pppz0D3KC4iBTng', 34),\n ('TLVnMr7lH6NsZ07GKy6V9A', 15),\n ('wXa-iTWCu_2-gADvksvXTQ', 22),\n ('zFv8xagzmdiSsbtxzprvsg', 11),\n ('oozIL8eYhtkvdhOhoa7Lfw', 15),\n ('tngl2VZ4VGpK3qFpmU0NMw', 25),\n ('NbBB_GZoIVjiv6q5z8dT2A', 31),\n ('Sr-DO1Nt8X4I4Pjxapwz-g', 29),\n ('prcrTVScKNTfSu0wcle0DA', 11),\n ('xYonRlhqbwdHLhPs1PLdCg', 17),\n ('MnacJ69mthATr8bwImvdTQ', 18),\n ('4Ig2hk20mBj9rtwwO4wB_A', 38),\n ('vJLIzMHqbFYss_5dwkDNpA', 15),\n ('xJ8KByAD9p-laEmW1to_vQ', 12),\n ('Qgi_Q6PkF5D489t45vU_8g', 26),\n ('3JnO3AEqRD8DbXkWP-gTFw', 28),\n ('IZ33QKVggRtHdMdWoDPi6Q', 19),\n ('3RlylOY452bA8rwliPUeUQ', 14),\n ('cIX8h9_IrzU_-4TGXGM0fQ', 14),\n ('n5Hc_iMVkyxcS0SXiBCbOQ', 23),\n ('ENvPVgDa1BV68CYJ-dcQlA', 16),\n ('WNxu0al67_LcbkFUEHBMYg', 14),\n ('aP_IzgkKh1fkfPCE3vPpAA', 14),\n ('I_eCXujGAbl1JKrye_419w', 13),\n ('vUJ08IkoUu5eaccWWFNIXg', 17),\n ('o01ztaNP08Dq8DJImuovcw', 11),\n ('ZABjbfGvs6E3Gc2hG8cKJA', 21),\n ('lrm8hNDtwd5Wd0tVjOgCyw', 19),\n ('OVczZ1qHXc3bjDprNvCKBQ', 107),\n ('R3TC2oq8fQK9c9BNMZ-ynA', 161),\n ('Lhl72icGvaW2rFClTy-hog', 16),\n ('IKRh-Kzh2UExFGif5zoiFw', 40),\n ('vOfz55MmWgjNQ3BA2PnhgQ', 124),\n ('pklva9BUEvq3jtPL8Y8KDQ', 25),\n ('FwguNvnkdY_hxEdRhlP1Fg', 19),\n ('6HMwB2wCKezd7aKzQd5asA', 26),\n ('6I27BTuHI5PMvOBG4WS8NQ', 22),\n ('z4KriCQPuPJnFr0NGgApbw', 27),\n ('2YBO1LEKIgyle0uX50u15Q', 33),\n ('wZkjm9TGa7nXLYHxhIRO5w', 25),\n ('9yRS-SNzkfmThx2JJoilwA', 31),\n ('kbTAyySlUZrTAr0nJOjiUw', 33),\n ('TEVc0KUKBixcGL9TPFaedA', 58),\n ('EvE23d1PSbfGWe7EA5HRBQ', 73),\n ('0q_BHpxbikVtPRRLRu-U0g', 148),\n ('cwCLcQns_SSExsBCzWNQDA', 48),\n ('tZwsKt8GKjzG5RdFTtqGgg', 20),\n ('oAq3-dXyDT3k4Mluc1ftTA', 22),\n ('mRbwm1Hkg6LjkcX_P3WWZA', 13),\n ('6K_9C9qQ5sDrmbtEQKjU_g', 16),\n ('w2yx8dfNXi3TcPZSdQOw3A', 65),\n ('8F9C5vhDlYphBWELUgLkvQ', 19),\n ('BnpuVvPy3sfLlkqKCx6Xnw', 61),\n ('wOKcWLyN1DhSEl3Y1eG5nQ', 70),\n ('f2sChoHFfQh3cE77hSB-ag', 23),\n ('orMyWvonOj55yswWf-k72Q', 110),\n ('4J0Ihvi2p1l6lGTKR9AB6g', 12),\n ('LShiV3c0yVTjuXe3tqexUA', 30),\n ('8T5JnB9qL5y8RaCHH5zKSQ', 58),\n ('Md_TTNUkO7U47b3cass4gw', 33),\n ('4U44KlOxvGG96pxtYYLR5A', 14),\n ('nl_gkvVXtsIlhGE0sP0qFw', 19),\n ('DTvcpHf2gGKgSujUVXA7sA', 13),\n ('o9-ZRUwmM26zTDpAx_xL0Q', 11),\n ('kUQwaqwxKlScAQNhRx2_2w', 39),\n ('PaYHG4FkH4-tUX_wfYEbcg', 46),\n ('e0tj2Jip560QbC8N9pF6xw', 12),\n ('hF1-dtY_oXfngC8h2mY4qg', 58),\n ('-rhH9sL3XGFpoJXcxUpEWA', 132),\n ('ORNb79LPI1lZLMo60jsDYQ', 45),\n ('Xx0iT938ygogOz6qIVG0hw', 32),\n ('DnJ5i7-SZRJ6X5ZGWCI36Q', 11),\n ('Fvd8qeJCXFbMYQk45S7iBQ', 22),\n ('loVzdXa2y222XwfzlBc5mQ', 17),\n ('UKq067-vAjSFWWrwEcduuQ', 17),\n ('siXCBrVFOXicbM2R-33-8w', 86),\n ('ai5dbb7P-qwt113PaJJCwg', 15),\n ('nXKaLgLuLs2-S8_O-V09-A', 42),\n ('F56TiSa71Tk4PIQ0HN8oag', 17),\n ('GJHaNrLBurhjjUclhzz5VQ', 15),\n ('ydM0qCPG1cTZvAguCi2ucA', 13),\n ('MzcZMQm4xVAV_-KvgrJijg', 11),\n ('JXj3X8RMmVikVZGSWmh7ww', 26),\n ('uXzHDmzG5mTcjP7IctinKQ', 18),\n ('kWclF3kJdLYPaoz-pepCDg', 20),\n ('M4372_M6P0O6jhwPdVcHOg', 23),\n ('KhqrvNH7OdPQMQoW4VCQ5A', 18),\n ('5z0qD9Qftputpv37VjFJPQ', 12),\n ('e62KCqoq3qQm0nvt3s5UAA', 12),\n ('h9pEt23IAyjBtUaYA9v46A', 27),\n ('na1KMwUzz3LUZgr1ZGt37g', 17),\n ('Lv9wzkvPrVG-VdPGcw53_A', 15),\n ('QVSYsRNfggg4WGOn9TtBzA', 17),\n ('aLdMqYoHqc77JjOybdPX-A', 12),\n ('S8J4LcwawSvOcYL9Vwy5Fw', 19),\n ('rYIQ5HjxFtfdKhIboOHxXw', 11),\n ('vgaA8bqGtd2uYj3KuWC9yw', 13),\n ('cbok94a7wBF5LUHZADppOQ', 14),\n ('Gi5h_zKjnNLao1MzdyzSAQ', 19),\n ('i0vXeFOD6e-DZ8cBwxaQRQ', 14),\n ('QL9pvUN6uOokmIU-xK5Qqg', 13),\n ('7hO3MNEJR25wq22bP9G1IA', 14),\n ('HnTxuZ4F5JEj2RfF3gOV-w', 12),\n ('tFXtHPDJ9hVJEb266mpnqA', 15),\n ('-7d3UqQYYcBxbDH2do86sg', 14),\n ('8YJOMfdnk42v3PvpkDxJGg', 14),\n ('5--3bqBkUMJZzvgfdp4AMw', 15),\n ('cJq087T4mHnADzspL3MclQ', 12),\n ('8u9lWKYiBneHzMHq3ReOYQ', 14),\n ('99quSCcQS06NLSU3UrFLKA', 13),\n ('5Q77B3p186bG1TSyyhSvDQ', 14),\n ('sT6KKMATRTiNSJ896D7l2w', 14),\n ('w1clLiXOo-yLhNjt5jDBCA', 55),\n ('isw3cS3hOKdKeBgi3lF3-A', 40),\n ('PlNwT37ZahtL-3GRHQ7mVg', 25),\n ('yKaIT0fnxEj0YVr1DMHvuQ', 71),\n ('c-hapDBIAZ9Uw4pB59Xc-g', 37),\n ('u1r_9dDn4JxiK2yNmn4XIQ', 12),\n ('Hr_Bk65xD2yQxjJhhorH1g', 27),\n ('UkCVoAhBp-JUCYyld8lE9Q', 20),\n ('hcKl9pAuB6E6ndh8anbgFg', 20),\n ('U3kygJOTlTQFlfaZS7sQjA', 66),\n ('vKnVb2RJfMBTnBCDooNAvA', 25),\n ('NuGZD3yBVqzpY1HuzT26mQ', 50),\n ('0xyqLvtr0Zbr4G-gML-QmQ', 49),\n ('t61eGISz7qMOxEe7o3vwEw', 83),\n ('7e3PZzUpG5FYOTGt3O3ePA', 13),\n ('mlCDsdVFuZvRGrJTfQ6amw', 97),\n ('cSIt_NA2mQAmL_sk7f7TbA', 17),\n ('diaiQrxYFU1V5qxrFnW9fg', 66),\n ('EGzbYCNiLoBuRvJmzqrKxQ', 30),\n ('WM4D3auXZu8TV48IsWHYNQ', 32),\n ('MhGezUHeUM_0qMMPGLAlCg', 25),\n ('1EGqfV6kg2dXZ3MCZS0Kog', 19),\n ('ddLH_-W5Gr9Az4M5Xo981w', 44),\n ('lcd71KXyEdFjGzWdqH3tAw', 46),\n ('nZAJ2a2-Oyxt6GzX97i2pg', 22),\n ('cozegmdHNzyxNqUp3KVKUA', 11),\n ('Np8MXME68JGYxJQ01lDd3g', 18),\n ('Uuxwgc8kA88Cvt8LthoRdQ', 45),\n ('STPpvTd7V6qioAONogTPRQ', 13),\n ('NRFKiCg_6WJtuGpfb9dxVw', 20),\n ('zuwba6QEBIDZT0tJZmNhdQ', 59),\n ('5Qoq8cif3nMCQUN-urH8YA', 26),\n ('4xnVH2jTVwrsO88q_jHWWw', 17),\n ('AMsfjpim5WohOzQJOtLyQg', 27),\n ('XUA7xA7myMaCuN6G3xYdIA', 40),\n ('nOidqR9yk6clKeXbuT_gZg', 15),\n ('9ogNVbTPvJd3TfLDGOrjRw', 22),\n ('p1T87Zzk4MV06socouDDjw', 18),\n ('mPydyOIWcIMevva10WUeDw', 22),\n ('bXoRrDhojAQ1B3nGNEs7wg', 25),\n ('h_ypoQ2rmwX8UGSmohsGiQ', 23),\n ('iNhP0ejUf2jVzaR5YCOoEQ', 21),\n ('pGwfOqNEL8FbMUFspJdAMA', 32),\n ('tWJWgm6o-FwwcxXa6G7l4Q', 20),\n ('B7lWxgPmJPJJ7Mz2OL6aAg', 23),\n ('-4TMQnQJW1yd6NqGRDvAeA', 66),\n ('fknU3sWplCBn26b6HwJ1kQ', 55),\n ('HOU5UUTb29yLmEz_0hteEw', 17),\n ('Lu4pQHQCRXI773PeP3PjTA', 17),\n ('ij_czg0xkJR6xvnQdgnMDA', 11),\n ('W0vJniiB1m_mOos2EcMj0A', 11),\n ('RGK23CEkDfYHWtUbRhA-bQ', 16),\n ('U3-kxz7NWq4ix4bPmKKQ0w', 14),\n ('CrIWqmuO2uQWwl3z11K_BA', 23),\n ('0p-3PlHw6FoWAs2ezJw3mA', 21),\n ('iuFE29Wk113afMJZkcYiXA', 21),\n ('HykZIiaHS35N2c5_QHoClA', 13),\n ('HVpwpXneaCWMeEBF7H8jpQ', 12),\n ('hyzzZdFi_RKXEGogcEAakg', 26),\n ('kKnGY0Xj7dG4ubjrbygynw', 15),\n ('T0ea32kBf7L33XUhIdwjbA', 12),\n ('p3l7Q7-UpwqpxTdD86dMWA', 22),\n ('ZDt9V3Gi5OcCKSCt8HfQEQ', 41),\n ('atNpoWy_XrhT9EUIEP6azg', 14),\n ('K_-l_AhoGQvYDeGNgm52qQ', 18),\n ('qEHYU_tm4YM04a0586UPvw', 17),\n ('rwLm3556i3xw2n3ND0cpdg', 20),\n ('VT9VcNegXrl-BLDCjWH3fQ', 50),\n ('WJWFSF3o83yl2jHDKbScJg', 11),\n ('qgixm44W9chBRmjHif278g', 11),\n ('3X-jhrbCSMv5hfUS02xdHA', 15),\n ('i6hWP3si97eKQl_JyK8L3w', 22),\n ('nXfTvWaTLxF1koYurYDAZQ', 19),\n ('7wJmtqPXXfK3NB_E8oOUGg', 11),\n ('RgqetGtygIGTHYhysPLktw', 11),\n ('U6ZPS03Nnm-peYC0q_bV6Q', 19),\n ('qYKrFRGMevtfozGeGo8YIg', 19),\n ('XlOtdDY_7VNieWYyMyic7Q', 12),\n ('b1b1eb3uo-w561D0ZfCEiQ', 11),\n ('QaMb5uqUmC4Zm4aNVzM8kQ', 13),\n ('o_G1anwHlc_k8NJhtP14Vg', 11),\n ('ZYMCKCjMc4mtiT_okzcirw', 11),\n ('emFbuv_F45pNkAkre2rMSA', 14),\n ('xh_ByBcQAU40VlbeqH-YkQ', 12),\n ('kNysv0XgMNUG2BTo7zlB5g', 19),\n ('ur8YWlnF2P1i0lraKvu3Bg', 30),\n ('DKZN5IjHEE_BCDCRLxb7sQ', 17),\n ('9NaZIhfRPkxRJn1eA9zrTA', 99),\n ('7ra_3K_ZebXNjMpaC6yVow', 29),\n ('xrBQKZbhJMCtaZxeJ0tzTQ', 62),\n ('uW6UHfONAmm8QttPkbMewQ', 254),\n ('Cp-clhAJs3NJRwXpXk_saw', 71),\n ('KVsv8wRGnLX8QWoNZKNMQA', 129),\n ('EpAXhhvS-8U9aG2LlAr5WA', 24),\n ('VOh-vGJlUJnaAb3tgPreQg', 47),\n ('c8_KYRnm6UgoasyTemhX1w', 13),\n ('yqYtY3-Po4OVPafA9Z-Xyw', 106),\n ('IfUkm42SB9D0m_ZbkQ711A', 18),\n ('0rjU_WK5HxoH1fIuEpTpcg', 51),\n ('Xgk-d2x59qhPxOsuCKeShw', 42),\n ('9SJ5sTileHeLXVMJrQiEDQ', 11),\n ('-yz0XHYoG1WOUm78K0vktQ', 19),\n ('Z8LsYdX-4wJxbi-x4GV3xA', 41),\n ('TWkL-VHo6P-WwL8iTvqlYQ', 27),\n ('R7LyTeiOHLyTNkA8HssBRQ', 73),\n ('ZbnFrow_TRDhpzkzTWAVPg', 25),\n ('W3okXUwaGiJXUBwtoEQfMA', 25),\n ('yBmDNVdEzW1ARUXYlKACIw', 27),\n ('h3BoyKFgStjnBeKO-wLmIg', 15),\n ('nJoohOsIiZMgtPV0ttvPxA', 28),\n ('zydbdBR6-CM8UZ6WkW1DWA', 11),\n ('HME5y0qMKFRUbHZykncGNA', 88),\n ('LvSGhtDi0U8lwQUBb4fASg', 17),\n ('JhRxDdmZSGDG_u7cGxaYrw', 44),\n ('yh0mvFCjZuMKy562h2_d_A', 30),\n ...]"
     },
     "execution_count": 7,
     "metadata": {},
     "output_type": "execute_result"
    }
   ],
   "source": []
  },
  {
   "cell_type": "code",
   "execution_count": null,
   "metadata": {},
   "outputs": [],
   "source": []
  }
 ],
 "metadata": {
  "kernelspec": {
   "display_name": "Python 3.8.3 64-bit ('base': conda)",
   "name": "python383jvsc74a57bd0dca0ade3e726a953b501b15e8e990130d2b7799f14cfd9f4271676035ebe5511"
  },
  "language_info": {
   "codemirror_mode": {
    "name": "ipython",
    "version": 3
   },
   "file_extension": ".py",
   "mimetype": "text/x-python",
   "name": "python",
   "nbconvert_exporter": "python",
   "pygments_lexer": "ipython3",
   "version": "3.8.3"
  }
 },
 "nbformat": 4,
 "nbformat_minor": 4
}