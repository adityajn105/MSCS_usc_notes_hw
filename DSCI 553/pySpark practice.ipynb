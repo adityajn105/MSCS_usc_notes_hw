{
 "cells": [
  {
   "cell_type": "markdown",
   "metadata": {},
   "source": [
    "**What is Spark? and Why to use it?**\n",
    "\n",
    "1. Apache Spark is a data processing framework that can quickly perform processing tasks on very large data sets, and can distribute data processing tasks across multiple containers.\n",
    "\n",
    "2. Spark also takes some of the programming burdens of these task off the shoulders of developers with an easy-to-use API. \n",
    "\n",
    "**Why?**: \n",
    "1. Speed. Spark's in-memory engine means that it can perform tasks up to 100 times faster than MapReduce in certain situations.\n",
    "2. Developer-friendly API.\n",
    "\n",
    "\n",
    "**Spark Context**\n",
    "1. SparkContext is a client of Spark's execution environment.\n",
    "2. SparkContext is entry point of spark functionality.\n",
    "3. A SparkContext represents the connection to a spark cluster, and can be used to create RDDs, accumulators and broadcast variables on that cluster.\n",
    "4. Only one SparkContext should be active per JVM.\n",
    "5. SparkContext uses the following parameters. master (url of the cluster it connects to), appName (name of your job), sparkHome (Spark Installation directory), etc.\n",
    "\n",
    "\n",
    "**Spark Session (After Spark 2.0)**"
   ]
  },
  {
   "cell_type": "code",
   "execution_count": 1,
   "metadata": {},
   "outputs": [
    {
     "data": {
      "text/html": [
       "\n",
       "        <div>\n",
       "            <p><b>SparkContext</b></p>\n",
       "\n",
       "            <p><a href=\"http://Beast.lan1:4041\">Spark UI</a></p>\n",
       "\n",
       "            <dl>\n",
       "              <dt>Version</dt>\n",
       "                <dd><code>v3.1.1</code></dd>\n",
       "              <dt>Master</dt>\n",
       "                <dd><code>local</code></dd>\n",
       "              <dt>AppName</dt>\n",
       "                <dd><code>practice_app</code></dd>\n",
       "            </dl>\n",
       "        </div>\n",
       "        "
      ],
      "text/plain": [
       "<SparkContext master=local appName=practice_app>"
      ]
     },
     "execution_count": 1,
     "metadata": {},
     "output_type": "execute_result"
    }
   ],
   "source": [
    "from pyspark import SparkContext\n",
    "sc = SparkContext(\"local\", \"practice_app\")\n",
    "sc"
   ]
  },
  {
   "cell_type": "markdown",
   "metadata": {},
   "source": [
    "### RDD - Resilient Distributed Dataset\n",
    "\n",
    "1. They are the elements that run and operate on multiple nodes to do parallel processing on a cluster.\n",
    "2. RDDS are immutable elements., means once you create an RDD you cannot change it. \n",
    "3. RDDs are resilient means fault tolerant as well, hence in case of any failure, they recover automatically.\n",
    "4. We can apply operations on these RDDs in 2 ways-\n",
    "    * Transformation\n",
    "    * Action\n",
    "\n",
    "**Transformations**\n",
    "1. map, flatmap\n",
    "2. filter\n",
    "3. distinct\n",
    "4. reduceByKey\n",
    "5. mapPartitions\n",
    "6. sortBy\n",
    "\n",
    "**Actions**\n",
    "1. collect, collectAsMap\n",
    "2. reduce\n",
    "3. countByKey, countByValue\n",
    "4. take\n",
    "5. first"
   ]
  },
  {
   "cell_type": "code",
   "execution_count": 3,
   "metadata": {},
   "outputs": [
    {
     "data": {
      "text/plain": [
       "sample.txt MapPartitionsRDD[3] at textFile at NativeMethodAccessorImpl.java:0"
      ]
     },
     "execution_count": 3,
     "metadata": {},
     "output_type": "execute_result"
    }
   ],
   "source": [
    "rdd = sc.textFile(\"sample.txt\")\n",
    "rdd"
   ]
  },
  {
   "cell_type": "code",
   "execution_count": 5,
   "metadata": {},
   "outputs": [
    {
     "data": {
      "text/plain": [
       "['The plan was Chett’s. He was the clever one; he’d been steward to old Maester Aemon for four good years before that bastard Jon Snow had done him out so his job could be handed to his fat pig of a friend. When he killed Sam Tarly tonight, he planned to whisper, “Give my love to Lord Snow,” right in his ear before he sliced Ser Piggy’s throat open to let the blood come bubbling out through all those layers of suet. Chett knew the ravens, so he wouldn’t have no trouble there, no more than he would with Tarly. One touch of the knife and that craven would piss his pants and start blubbering for his life. Let him beg, it won’t do him no good. After he opened his throat, he’d open the cages and shoo the birds away, so no messages reached the Wall. Softfoot and Small Paul would kill the Old Bear, Dirk would do Blane, and Lark and his cousins would silence Bannen and old Dywen, to keep them from sniffing after their trail. They’d been caching food for a fortnight, and Sweet Donnel and Clubfoot Karl would have the horses ready. With Mormont dead, command would pass to Ser Ottyn Wythers, an old done man, and failing. He’ll be running for the Wall before sundown, and he won’t waste no men sending them after us neither.']"
      ]
     },
     "execution_count": 5,
     "metadata": {},
     "output_type": "execute_result"
    }
   ],
   "source": [
    "rdd.take(1)"
   ]
  },
  {
   "cell_type": "code",
   "execution_count": 14,
   "metadata": {},
   "outputs": [
    {
     "data": {
      "text/plain": [
       "(PythonRDD[15] at RDD at PythonRDD.scala:53,\n",
       " ['the', 'plan', 'was', 'chett’s.', 'he'])"
      ]
     },
     "execution_count": 14,
     "metadata": {},
     "output_type": "execute_result"
    }
   ],
   "source": [
    "rdd2 = rdd.flatMap( lambda x: x.lower().split() )\n",
    "rdd2, rdd2.take(5)"
   ]
  },
  {
   "cell_type": "code",
   "execution_count": 15,
   "metadata": {},
   "outputs": [
    {
     "data": {
      "text/plain": [
       "[('the', 1), ('plan', 1), ('was', 1)]"
      ]
     },
     "execution_count": 15,
     "metadata": {},
     "output_type": "execute_result"
    }
   ],
   "source": [
    "rdd3 = rdd2.map( lambda x: (x,1) )\n",
    "rdd3.take(3)"
   ]
  },
  {
   "cell_type": "code",
   "execution_count": 24,
   "metadata": {},
   "outputs": [
    {
     "data": {
      "text/plain": [
       "[('the', 26), ('plan', 1), ('was', 4)]"
      ]
     },
     "execution_count": 24,
     "metadata": {},
     "output_type": "execute_result"
    }
   ],
   "source": [
    "rdd4 = rdd3.reduceByKey( lambda x,y : x+y )\n",
    "rdd4.take(3)"
   ]
  },
  {
   "cell_type": "code",
   "execution_count": 26,
   "metadata": {},
   "outputs": [
    {
     "data": {
      "text/plain": [
       "[('the', 26), ('and', 13), ('to', 9), ('he', 8), ('his', 7)]"
      ]
     },
     "execution_count": 26,
     "metadata": {},
     "output_type": "execute_result"
    }
   ],
   "source": [
    "rdd5 = rdd4.sortBy( lambda x: x[1], ascending=False )\n",
    "rdd5.take(5)"
   ]
  },
  {
   "cell_type": "code",
   "execution_count": null,
   "metadata": {},
   "outputs": [],
   "source": []
  }
 ],
 "metadata": {
  "kernelspec": {
   "display_name": "Python 3",
   "language": "python",
   "name": "python3"
  },
  "language_info": {
   "codemirror_mode": {
    "name": "ipython",
    "version": 3
   },
   "file_extension": ".py",
   "mimetype": "text/x-python",
   "name": "python",
   "nbconvert_exporter": "python",
   "pygments_lexer": "ipython3",
   "version": "3.8.3"
  }
 },
 "nbformat": 4,
 "nbformat_minor": 4
}
