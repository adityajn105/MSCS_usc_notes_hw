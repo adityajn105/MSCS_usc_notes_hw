{
 "cells": [
  {
   "cell_type": "code",
   "execution_count": 10,
   "metadata": {},
   "outputs": [],
   "source": [
    "from functools import reduce\n",
    "from itertools import combinations\n",
    "from collections import defaultdict"
   ]
  },
  {
   "cell_type": "markdown",
   "metadata": {},
   "source": [
    "### Assocaite rules"
   ]
  },
  {
   "cell_type": "code",
   "execution_count": 116,
   "metadata": {},
   "outputs": [],
   "source": [
    "baskets = [   \n",
    "   (\"A\", \"C\", \"D\"),\n",
    "    (\"B\", \"C\", \"E\"),\n",
    "    (\"A\", \"C\", \"E\"),\n",
    "    (\"F\", \"E\")\n",
    "]\n",
    "baskets = [ frozenset(b) for b in baskets ]\n",
    "\n",
    "def support( baskets, comb = 2, support=2 ):\n",
    "    all_items = reduce( lambda x,y: x.union(y), baskets )\n",
    "    support_dict = defaultdict(int)\n",
    "    for itemset in combinations(all_items, comb):\n",
    "        itemset = frozenset(itemset)\n",
    "        for basket in baskets:\n",
    "            if itemset.issubset(basket):\n",
    "                support_dict[ itemset ] += 1\n",
    "    return { k:v for k,v in support_dict.items() if v >= support }\n",
    "\n",
    "def interest( baskets, I, j):\n",
    "    I,j = frozenset(I), frozenset(j)\n",
    "    supp_of_I = support(baskets, len(I), 0)[I]\n",
    "    supp_of_Ij = support(baskets, len(I)+1, 0)[ I.union(j) ]\n",
    "    supp_of_j = support(baskets, 1, 0)[j]\n",
    "    return (supp_of_Ij/supp_of_I)-(supp_of_j/len(baskets))\n",
    "\n",
    "def confidence(baskets, I, j):\n",
    "    I,j = frozenset(I), frozenset(j)\n",
    "    supp_of_Ij = support(baskets, len(I)+1, 0)[ I.union(j) ]\n",
    "    supp_of_I = support(baskets, len(I), 0)[I]\n",
    "    return supp_of_Ij/supp_of_I"
   ]
  },
  {
   "cell_type": "code",
   "execution_count": 117,
   "metadata": {},
   "outputs": [
    {
     "data": {
      "text/plain": [
       "{frozenset({'C', 'E'}): 2, frozenset({'A', 'C'}): 2}"
      ]
     },
     "execution_count": 117,
     "metadata": {},
     "output_type": "execute_result"
    }
   ],
   "source": [
    "support(baskets, 2)"
   ]
  },
  {
   "cell_type": "code",
   "execution_count": 49,
   "metadata": {},
   "outputs": [
    {
     "data": {
      "text/plain": [
       "(-0.125, 0.5)"
      ]
     },
     "execution_count": 49,
     "metadata": {},
     "output_type": "execute_result"
    }
   ],
   "source": [
    "interest(baskets, (\"m\", \"b\"), \"c\"), confidence(baskets, (\"m\", \"b\"), \"c\")"
   ]
  },
  {
   "cell_type": "markdown",
   "metadata": {},
   "source": [
    "### Min hashing"
   ]
  },
  {
   "cell_type": "code",
   "execution_count": 112,
   "metadata": {},
   "outputs": [
    {
     "name": "stdout",
     "output_type": "stream",
     "text": [
      "[1, 3, 0, 1]\n",
      "[0, 2, 0, 0]\n"
     ]
    }
   ],
   "source": [
    "def getMinHashSignature(table, hashes):\n",
    "    vals, n = [], len(table)\n",
    "    \n",
    "    r = len(table[0])\n",
    "    h = len(hashes)\n",
    "    for func in hashes:\n",
    "        vals.append( [ func(i) for i in range(n) ] )\n",
    "                      \n",
    "    ans = [ [float('inf')]*r for _ in range(len(hashes)) ]\n",
    "    for i in range(n):\n",
    "        for j in range(r):\n",
    "            for k in range(h):\n",
    "                if table[i][j] == 0: continue\n",
    "                ans[k][j] = min( ans[k][j], vals[k][i] )\n",
    "                \n",
    "    return \"\\n\".join(map(str,ans))\n",
    "\n",
    "\n",
    "table = [ [1,0,0,1],\n",
    "          [0,0,1,0],\n",
    "          [0,1,0,1],\n",
    "          [1,0,1,1],\n",
    "          [0,0,1,0]]\n",
    "\n",
    "hashes = [ lambda x: (x+1)%5, lambda x: (3*x + 1)%5 ]\n",
    "\n",
    "print(getMinHashSignature(table, hashes))"
   ]
  },
  {
   "cell_type": "markdown",
   "metadata": {},
   "source": [
    "### Local Sensitive Hashing\n",
    "\n",
    "[https://www.desmos.com/calculator/lzzvfjiujn](https://www.desmos.com/calculator/lzzvfjiujn)\n",
    "\n",
    "Rules of MinHashing:\n",
    "\n",
    "* No of Bands increases $(b)$\n",
    "* Rows per band decreases $(r)$\n",
    "* Threshold decreases $\\frac{1}{b}^{\\frac{1}{r}}$\n",
    "* false Neg decreases\n",
    "* false positive increases\n",
    "\n",
    "\n",
    "Analysis of banding technique:\n",
    "* Probability that all rows in band are equal= $t^r$\n",
    "* Probability that not all rows r are equal = $1-t^r$\n",
    "* Probability that no band has rows that are all equal = $(1-t^r)^b$\n",
    "* Probability that at least 1 band has rows that are all equal = $1-(1-t^r)^b$"
   ]
  },
  {
   "cell_type": "code",
   "execution_count": 113,
   "metadata": {},
   "outputs": [
    {
     "name": "stdout",
     "output_type": "stream",
     "text": [
      "(0.3276800000000001, 0.6723199999999999, 0.0003560578905207767, 0.9996439421094793)\n",
      "(0.0024299999999999994, 0.99757, 0.9525057408750288, 0.04749425912497118)\n"
     ]
    }
   ],
   "source": [
    "def calculate_probabilites( t, r, b ):\n",
    "    first = t**r\n",
    "    second = 1 - first\n",
    "    third = second**b\n",
    "    fourth = 1-third\n",
    "    return first, second, third, fourth\n",
    "\n",
    "def getThreshold(b,r): \n",
    "    return (1/b)**(1/r)\n",
    "\n",
    "print(calculate_probabilites(0.8, 5, 20))\n",
    "print(calculate_probabilites(0.3, 5, 20))"
   ]
  },
  {
   "cell_type": "code",
   "execution_count": 114,
   "metadata": {},
   "outputs": [
    {
     "data": {
      "text/plain": [
       "(0.0024299999999999994, 0.99757, 0.9525057408750288, 0.04749425912497118)"
      ]
     },
     "execution_count": 114,
     "metadata": {},
     "output_type": "execute_result"
    }
   ],
   "source": [
    "calculate_probabilites( 0.3, 5, 20 )"
   ]
  },
  {
   "cell_type": "markdown",
   "metadata": {},
   "source": [
    "### Pearson Similarity"
   ]
  },
  {
   "cell_type": "code",
   "execution_count": 97,
   "metadata": {},
   "outputs": [
    {
     "data": {
      "text/plain": [
       "0.7559289460184546"
      ]
     },
     "execution_count": 97,
     "metadata": {},
     "output_type": "execute_result"
    }
   ],
   "source": [
    "def mean(x): return sum(x)/len(x)\n",
    "def pearsons_similarity( a,b ):\n",
    "    avg_a, avg_b, cnt = 0, 0, 0\n",
    "    for ai,bi in zip(a,b):\n",
    "        if ai==-1 or bi==-1: continue\n",
    "        avg_a, avg_b, cnt = avg_a+ai, avg_b+bi, cnt+1\n",
    "        \n",
    "    avg_a /= cnt\n",
    "    avg_b /= cnt\n",
    "    num,den1,den2 = 0,0,0\n",
    "    for ai, bi in zip(a,b):\n",
    "        if ai==-1 or bi==-1: continue\n",
    "        num += (ai-avg_a)*(bi-avg_b)\n",
    "        den1 += (ai-avg_a)**2\n",
    "        den2 += (bi-avg_b)**2\n",
    "    den = ( den1**0.5 * den2**0.5 )\n",
    "    if den==0: return 0\n",
    "    return num/den\n",
    "\n",
    "#keep unrated items as -1\n",
    "U1 = [4, -1, 5, 5]\n",
    "U2 = [2,  1, 3, 5]\n",
    "pearsons_similarity(U1,U2)"
   ]
  },
  {
   "cell_type": "markdown",
   "metadata": {},
   "source": [
    "### User based CF predictions"
   ]
  },
  {
   "cell_type": "code",
   "execution_count": 99,
   "metadata": {},
   "outputs": [
    {
     "data": {
      "text/plain": [
       "3.946914190211329"
      ]
     },
     "execution_count": 99,
     "metadata": {},
     "output_type": "execute_result"
    }
   ],
   "source": [
    "def avg_rating(U):\n",
    "    sm,cnt = 0,0\n",
    "    for u in U:\n",
    "        if u!=-1: sm,cnt = sm+u, cnt+1\n",
    "    return sm/cnt\n",
    "            \n",
    "def user_based_cf( table, coord = (0,1), \n",
    "                  neighbors = -1, steps=False ):\n",
    "    u, i = coord\n",
    "    total_user, total_items = len(table), len(table[0])\n",
    "    avg_r = dict()\n",
    "    \n",
    "    #calculate avg with item i is not considered\n",
    "    avg_r[u] = avg_rating(table[u][:i]+table[u][i+1:])\n",
    "    for ui in range(total_user):\n",
    "        if ui == u or table[ui][i] == -1: continue\n",
    "        avg_r[ui] = avg_rating(table[ui][:i]+table[ui][i+1:]) \n",
    "    \n",
    "    if steps: print(\"Avg for each user\", avg_r)\n",
    "    \n",
    "    #calcuate pearson similarity of u with each user who rated item i\n",
    "    similarities = dict()\n",
    "    for ui in range(total_user):\n",
    "        if ui == u or table[ui][i] == -1: continue\n",
    "        similarities[ui] = pearsons_similarity( table[ui], table[u] ) \n",
    "    \n",
    "    if steps: print(\"Similarity with each user\", similarities)\n",
    "    \n",
    "    similarities = [ (v,k) for k,v in similarities.items() ]\n",
    "    similarities.sort(reverse=True)\n",
    "    if neighbors!=-1:\n",
    "        similarities = similarities[:neighbors]\n",
    "    \n",
    "    num, den = 0, 0\n",
    "    for sim, ui in similarities:\n",
    "        num += (table[ui][i] - avg_r[ui])*sim\n",
    "        den += abs(sim)\n",
    "    return avg_r[u] + (num/den)\n",
    "\n",
    "\n",
    "table = [ [4, -1, 5, 5],\n",
    "          [4,  2, 1, -1],\n",
    "          [3, -1, 2, 4],\n",
    "          [4, 4, -1, -1],\n",
    "          [2, 1, 3,  5]\n",
    "        ]\n",
    "\n",
    "user_based_cf(table, coord=(0,1))"
   ]
  },
  {
   "cell_type": "code",
   "execution_count": 104,
   "metadata": {},
   "outputs": [
    {
     "data": {
      "text/plain": [
       "3.3333333333333335"
      ]
     },
     "execution_count": 104,
     "metadata": {},
     "output_type": "execute_result"
    }
   ],
   "source": [
    "table = [[2,1,-1,3],\n",
    "        [3,-1,5,2],\n",
    "        [-1,4,2,3],\n",
    "        [5,3,1,-1]]\n",
    "\n",
    "user_based_cf( table, (1,1) )"
   ]
  },
  {
   "cell_type": "markdown",
   "metadata": {},
   "source": [
    "### Item Based CF predictions"
   ]
  },
  {
   "cell_type": "code",
   "execution_count": 94,
   "metadata": {},
   "outputs": [
    {
     "data": {
      "text/plain": [
       "(0.7657048647896112, 1.0)"
      ]
     },
     "execution_count": 94,
     "metadata": {},
     "output_type": "execute_result"
    }
   ],
   "source": [
    "#based on all ratings\n",
    "def pearsons_similarity_all_ratings( a,b ):\n",
    "    avg_a, avg_b, cnta, cntb = 0, 0, 0, 0\n",
    "    for ai,bi in zip(a,b):\n",
    "        if ai!=-1: avg_a, cnta = avg_a + ai, cnta+1\n",
    "        if bi!=-1: avg_b, cntb = avg_b + bi, cntb+1\n",
    "            \n",
    "    avg_a /= cnta\n",
    "    avg_b /= cntb\n",
    "    num,den1,den2 = 0,0,0\n",
    "    for ai, bi in zip(a,b):\n",
    "        if ai==-1 or bi==-1: continue\n",
    "        num += (ai-avg_a)*(bi-avg_b)\n",
    "        den1 += (ai-avg_a)**2\n",
    "        den2 += (bi-avg_b)**2\n",
    "    den = ( den1**0.5 * den2**0.5 )\n",
    "    if den==0: return 0\n",
    "    return num/den\n",
    "\n",
    "def pearsons_similarity_common_ratings( a,b ):\n",
    "    avg_a, avg_b, cnt = 0, 0, 0\n",
    "    for ai,bi in zip(a,b):\n",
    "        if ai==-1 or bi==-1: continue\n",
    "        avg_a, avg_b, cnt = avg_a+ai, avg_b+bi, cnt+1\n",
    "        \n",
    "    avg_a /= cnt\n",
    "    avg_b /= cnt\n",
    "    num,den1,den2 = 0,0,0\n",
    "    for ai, bi in zip(a,b):\n",
    "        if ai==-1 or bi==-1: continue\n",
    "        num += (ai-avg_a)*(bi-avg_b)\n",
    "        den1 += (ai-avg_a)**2\n",
    "        den2 += (bi-avg_b)**2\n",
    "    den = ( den1**0.5 * den2**0.5 )\n",
    "    if den==0: return 0\n",
    "    return num/den\n",
    "\n",
    "pearsons_similarity_all_ratings( [2,3,-1,5], [1,-1,4,3] ),pearsons_similarity_common_ratings( [2,3,-1,5], [1,-1,4,3] )"
   ]
  },
  {
   "cell_type": "code",
   "execution_count": 109,
   "metadata": {},
   "outputs": [
    {
     "data": {
      "text/plain": [
       "2.3697811937369306"
      ]
     },
     "execution_count": 109,
     "metadata": {},
     "output_type": "execute_result"
    }
   ],
   "source": [
    "def item_based_cf( table, coord = (1,1), neighbors=-1, steps=False ):\n",
    "    u, i = coord\n",
    "    total_user, total_items = len(table), len(table[0])\n",
    "    \n",
    "    similarity = dict()\n",
    "    itemset = [ row[i] for row in table ]\n",
    "    for item in range(total_items):\n",
    "        if i == item: continue\n",
    "        itemset1 = [ row[item] for row in table  ]\n",
    "        similarity[item] = pearsons_similarity_all_ratings(itemset, itemset1)\n",
    "    \n",
    "    similarity = [ (v,k) for k,v in similarity.items() ]    \n",
    "    similarity.sort(reverse=True)\n",
    "    \n",
    "    if steps: print(\"Similarity :\",similarity)\n",
    "    if neighbors != -1:\n",
    "        similarity = similarity[:neighbors]\n",
    "    \n",
    "    num, den = 0, 0\n",
    "    for sim, item in similarity:\n",
    "        num += table[u][item] * sim\n",
    "        den += abs(sim)\n",
    "    \n",
    "    return num/den\n",
    "\n",
    "table = [ [2,1,-1,3],\n",
    "          [3,-1,5,2],\n",
    "          [-1,4,2,3],\n",
    "          [5,3,1,-1]]\n",
    "\n",
    "item_based_cf(table, neighbors=2)    "
   ]
  },
  {
   "cell_type": "code",
   "execution_count": null,
   "metadata": {},
   "outputs": [],
   "source": []
  }
 ],
 "metadata": {
  "kernelspec": {
   "display_name": "Python 3",
   "language": "python",
   "name": "python3"
  },
  "language_info": {
   "codemirror_mode": {
    "name": "ipython",
    "version": 3
   },
   "file_extension": ".py",
   "mimetype": "text/x-python",
   "name": "python",
   "nbconvert_exporter": "python",
   "pygments_lexer": "ipython3",
   "version": "3.8.3"
  }
 },
 "nbformat": 4,
 "nbformat_minor": 4
}
