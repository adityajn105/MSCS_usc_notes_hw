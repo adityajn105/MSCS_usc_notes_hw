{
 "cells": [
  {
   "cell_type": "markdown",
   "id": "94ccce7d",
   "metadata": {},
   "source": [
    "### Deep learning - A visual approach (Andrew Glassner)"
   ]
  },
  {
   "cell_type": "markdown",
   "id": "5eda42b7",
   "metadata": {},
   "source": [
    "* Game Play, Self driving\n",
    "* Level Generation\n",
    "* Search for ideas online"
   ]
  },
  {
   "cell_type": "code",
   "execution_count": null,
   "id": "609de866",
   "metadata": {},
   "outputs": [],
   "source": [
    "from collections import defaultdict\n",
    "def solution(A, B):\n",
    "    # write your code in Python 3.6\n",
    "    graph = defaultdict(set)\n",
    "    graphi = defaultdict(set)\n",
    "    for a,b in zip(A,B):\n",
    "        graph[a].add(b) # a to b\n",
    "        graphi[b].add(a) #b is pointed by a\n",
    "\n",
    "    active = [0]\n",
    "    visited = {0}\n",
    "    for b in graphi[0]:\n",
    "        active.append(b)\n",
    "        visited.add(b)\n",
    "\n",
    "    ans = 0\n",
    "    while len(active) > 0:\n",
    "        temp = active.pop()\n",
    "        for b in graph[temp]:\n",
    "            if b in visited: continue\n",
    "            ans+=1\n",
    "            active.append(b)\n",
    "            visited.add(b)\n",
    "\n",
    "        for b in graphi[temp]:\n",
    "            if b in visited: continue\n",
    "            active.append(b)\n",
    "            visited.add(b)\n",
    "\n",
    "    return ans"
   ]
  },
  {
   "cell_type": "code",
   "execution_count": null,
   "id": "5947c899",
   "metadata": {},
   "outputs": [],
   "source": [
    "    unq = len(set(A))\n",
    "    n = len(A)\n",
    "\n",
    "    i,j = 0, 1\n",
    "    dic = { A[0]: 1 }\n",
    "    best = 1 if len(dic) == unq else float('inf')\n",
    "    while j < n:\n",
    "        a = A[j]\n",
    "        dic[a] = dic.get(a, 0)+1\n",
    "        while A[i] == a and dic.get(a, 0) > 1:\n",
    "            dic[a] -= 1\n",
    "            i+=1\n",
    "        if len(dic) == unq and best > j-i+1:\n",
    "            best = j-i+1\n",
    "        j+=1\n",
    "    \n",
    "    return best\n"
   ]
  },
  {
   "cell_type": "code",
   "execution_count": null,
   "id": "79e64a69",
   "metadata": {},
   "outputs": [],
   "source": [
    "    unq = len(set(A))\n",
    "    n = len(A)\n",
    "    \n",
    "    i,j = 0, 1\n",
    "    dic = { A[0] }\n",
    "    best = 1 if len(dic) == unq else float('inf')\n",
    "    while j < n:\n",
    "        a = A[j]\n",
    "        while A[i] == a: i+=1\n",
    "        dic.add(a)\n",
    "        if len(dic) == unq and best > j-i+1:\n",
    "            best = j-i+1\n",
    "        j+=1\n",
    "    return best"
   ]
  },
  {
   "cell_type": "code",
   "execution_count": null,
   "id": "32dfe740",
   "metadata": {},
   "outputs": [],
   "source": [
    "A = [2,1,3,5,4]\n",
    "+"
   ]
  },
  {
   "cell_type": "code",
   "execution_count": 8,
   "id": "c956e673",
   "metadata": {},
   "outputs": [],
   "source": [
    "from functools import lru_cache"
   ]
  },
  {
   "cell_type": "code",
   "execution_count": 15,
   "id": "0e660022",
   "metadata": {},
   "outputs": [
    {
     "data": {
      "text/plain": [
       "5"
      ]
     },
     "execution_count": 15,
     "metadata": {},
     "output_type": "execute_result"
    }
   ],
   "source": [
    "from functools import lru_cache\n",
    "import math\n",
    "\n",
    "@lru_cache(None)\n",
    "def compress(s):\n",
    "    size = 0 \n",
    "    curr, count = s[0], 1\n",
    "    for si in list(s)[1:]:\n",
    "        if curr == si:\n",
    "            count += 1\n",
    "        else:\n",
    "            if count==1: size += 1\n",
    "            else: size += int(math.log10(count))+2\n",
    "            curr = si\n",
    "            count = 1\n",
    "    if count==1: size += 1\n",
    "    else: size += int(math.log10(count))+2\n",
    "    return size\n",
    "\n",
    "k = 3\n",
    "string = \"ABBBCCDDCCC\"\n",
    "\n",
    "n = len(string)\n",
    "best = float('inf')\n",
    "for i in range(n-k):\n",
    "    best = min(best, compress(string[:i]+string[i+k:]) )\n",
    "best"
   ]
  },
  {
   "cell_type": "code",
   "execution_count": null,
   "id": "f87f5595",
   "metadata": {},
   "outputs": [],
   "source": []
  },
  {
   "cell_type": "code",
   "execution_count": null,
   "id": "8d1e24c3",
   "metadata": {},
   "outputs": [],
   "source": [
    "logs = []"
   ]
  },
  {
   "cell_type": "code",
   "execution_count": null,
   "id": "4984d083",
   "metadata": {},
   "outputs": [],
   "source": []
  }
 ],
 "metadata": {
  "kernelspec": {
   "display_name": "Python 3",
   "language": "python",
   "name": "python3"
  },
  "language_info": {
   "codemirror_mode": {
    "name": "ipython",
    "version": 3
   },
   "file_extension": ".py",
   "mimetype": "text/x-python",
   "name": "python",
   "nbconvert_exporter": "python",
   "pygments_lexer": "ipython3",
   "version": "3.8.3"
  }
 },
 "nbformat": 4,
 "nbformat_minor": 5
}
